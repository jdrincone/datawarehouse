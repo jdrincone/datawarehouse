{
 "cells": [
  {
   "cell_type": "code",
   "execution_count": 52,
   "id": "539dd5fe-ff73-4113-abc7-dc088af8d220",
   "metadata": {},
   "outputs": [],
   "source": [
    "import pandas as pd\n",
    "import numpy as np"
   ]
  },
  {
   "cell_type": "code",
   "execution_count": 38,
   "id": "3056d280-dfb5-4342-ad50-0affc29437d8",
   "metadata": {},
   "outputs": [],
   "source": [
    "converters = {'num_documento_cliente': str,\n",
    "             'tipo_documento_cliente': str,\n",
    "             'codigo_tienda': str, \n",
    "             'total_compra': float,\n",
    "             'tipo_tienda': str,\n",
    "             'latitud_tienda': float,\n",
    "             'longitud_tienda': float,\n",
    "             'id_barrio': str,\n",
    "             'nombre_barrio': str}"
   ]
  },
  {
   "cell_type": "code",
   "execution_count": 39,
   "id": "89f2cefd-65ab-4c03-8ffb-6a3446ff918d",
   "metadata": {},
   "outputs": [],
   "source": [
    "data = pd.read_csv('data/dataset.csv', converters=converters)"
   ]
  },
  {
   "cell_type": "code",
   "execution_count": 40,
   "id": "f209c004-5f51-4717-8cf4-7aae917580dd",
   "metadata": {},
   "outputs": [
    {
     "data": {
      "text/plain": [
       "Index(['num_documento_cliente', 'tipo_documento_cliente', 'codigo_tienda',\n",
       "       'total_compra', 'tipo_tienda', 'latitud_tienda', 'longitud_tienda',\n",
       "       'id_barrio', 'nombre_barrio', 'fecha_compra'],\n",
       "      dtype='object')"
      ]
     },
     "execution_count": 40,
     "metadata": {},
     "output_type": "execute_result"
    }
   ],
   "source": [
    "data.columns"
   ]
  },
  {
   "cell_type": "code",
   "execution_count": 41,
   "id": "611dbc57-1540-4ebe-bf30-14df303d3679",
   "metadata": {},
   "outputs": [
    {
     "data": {
      "text/plain": [
       "94610"
      ]
     },
     "execution_count": 41,
     "metadata": {},
     "output_type": "execute_result"
    }
   ],
   "source": [
    "len(data)"
   ]
  },
  {
   "cell_type": "code",
   "execution_count": 42,
   "id": "46e93269-5197-412e-b870-40220a414fa3",
   "metadata": {},
   "outputs": [
    {
     "data": {
      "text/html": [
       "<div>\n",
       "<style scoped>\n",
       "    .dataframe tbody tr th:only-of-type {\n",
       "        vertical-align: middle;\n",
       "    }\n",
       "\n",
       "    .dataframe tbody tr th {\n",
       "        vertical-align: top;\n",
       "    }\n",
       "\n",
       "    .dataframe thead th {\n",
       "        text-align: right;\n",
       "    }\n",
       "</style>\n",
       "<table border=\"1\" class=\"dataframe\">\n",
       "  <thead>\n",
       "    <tr style=\"text-align: right;\">\n",
       "      <th></th>\n",
       "      <th>num_documento_cliente</th>\n",
       "      <th>tipo_documento_cliente</th>\n",
       "      <th>codigo_tienda</th>\n",
       "      <th>total_compra</th>\n",
       "      <th>tipo_tienda</th>\n",
       "      <th>latitud_tienda</th>\n",
       "      <th>longitud_tienda</th>\n",
       "      <th>id_barrio</th>\n",
       "      <th>nombre_barrio</th>\n",
       "      <th>fecha_compra</th>\n",
       "    </tr>\n",
       "  </thead>\n",
       "  <tbody>\n",
       "    <tr>\n",
       "      <th>0</th>\n",
       "      <td>6861792605025121524</td>\n",
       "      <td>1</td>\n",
       "      <td>14812028</td>\n",
       "      <td>22218042.0</td>\n",
       "      <td>Tienda especializada</td>\n",
       "      <td>3.402118</td>\n",
       "      <td>-76.525681</td>\n",
       "      <td>737998244</td>\n",
       "      <td>Canaverales Los Samanes</td>\n",
       "      <td>2022-06-15 15:49:11</td>\n",
       "    </tr>\n",
       "    <tr>\n",
       "      <th>1</th>\n",
       "      <td>1552970090928921643</td>\n",
       "      <td>1</td>\n",
       "      <td>14388938</td>\n",
       "      <td>21583407.0</td>\n",
       "      <td>Tienda especializada</td>\n",
       "      <td>3.468765</td>\n",
       "      <td>-76.484936</td>\n",
       "      <td>737998896</td>\n",
       "      <td>Jorge Eliecer Gaitan</td>\n",
       "      <td>2022-10-02 22:14:54</td>\n",
       "    </tr>\n",
       "    <tr>\n",
       "      <th>2</th>\n",
       "      <td>-4075904842556875666</td>\n",
       "      <td>1</td>\n",
       "      <td>12370698</td>\n",
       "      <td>6185349.0</td>\n",
       "      <td>Tienda especializada</td>\n",
       "      <td>3.400743</td>\n",
       "      <td>-76.524839</td>\n",
       "      <td>737998244</td>\n",
       "      <td>Canaverales Los Samanes</td>\n",
       "      <td>2022-01-10 0:27:57</td>\n",
       "    </tr>\n",
       "    <tr>\n",
       "      <th>3</th>\n",
       "      <td>3539339627033221084</td>\n",
       "      <td>1</td>\n",
       "      <td>10313583</td>\n",
       "      <td>10313583.0</td>\n",
       "      <td>Tienda especializada</td>\n",
       "      <td>3.369544</td>\n",
       "      <td>-76.523664</td>\n",
       "      <td>738000400</td>\n",
       "      <td>Lili</td>\n",
       "      <td>2022-09-02 16:30:24</td>\n",
       "    </tr>\n",
       "    <tr>\n",
       "      <th>4</th>\n",
       "      <td>5595554501572542610</td>\n",
       "      <td>1</td>\n",
       "      <td>14358071</td>\n",
       "      <td>28716142.0</td>\n",
       "      <td>Tienda especializada</td>\n",
       "      <td>3.419046</td>\n",
       "      <td>-76.497730</td>\n",
       "      <td>737996734</td>\n",
       "      <td>El Poblado</td>\n",
       "      <td>2022-03-20 2:56:49</td>\n",
       "    </tr>\n",
       "  </tbody>\n",
       "</table>\n",
       "</div>"
      ],
      "text/plain": [
       "  num_documento_cliente tipo_documento_cliente codigo_tienda  total_compra  \\\n",
       "0   6861792605025121524                      1      14812028    22218042.0   \n",
       "1   1552970090928921643                      1      14388938    21583407.0   \n",
       "2  -4075904842556875666                      1      12370698     6185349.0   \n",
       "3   3539339627033221084                      1      10313583    10313583.0   \n",
       "4   5595554501572542610                      1      14358071    28716142.0   \n",
       "\n",
       "            tipo_tienda  latitud_tienda  longitud_tienda  id_barrio  \\\n",
       "0  Tienda especializada        3.402118       -76.525681  737998244   \n",
       "1  Tienda especializada        3.468765       -76.484936  737998896   \n",
       "2  Tienda especializada        3.400743       -76.524839  737998244   \n",
       "3  Tienda especializada        3.369544       -76.523664  738000400   \n",
       "4  Tienda especializada        3.419046       -76.497730  737996734   \n",
       "\n",
       "             nombre_barrio         fecha_compra  \n",
       "0  Canaverales Los Samanes  2022-06-15 15:49:11  \n",
       "1     Jorge Eliecer Gaitan  2022-10-02 22:14:54  \n",
       "2  Canaverales Los Samanes   2022-01-10 0:27:57  \n",
       "3                     Lili  2022-09-02 16:30:24  \n",
       "4               El Poblado   2022-03-20 2:56:49  "
      ]
     },
     "execution_count": 42,
     "metadata": {},
     "output_type": "execute_result"
    }
   ],
   "source": [
    "data.head()"
   ]
  },
  {
   "cell_type": "code",
   "execution_count": 45,
   "id": "6e64939f-708f-4ea5-b2ec-5ad71c6b9a84",
   "metadata": {},
   "outputs": [],
   "source": [
    "data['fecha_compra'] = pd.to_datetime(data['fecha_compra'], format='%Y-%m-%d %H:%M:%S')\n",
    "data['year_compra']= data['fecha_compra'].dt.year\n",
    "data['month_compra']= data['fecha_compra'].dt.month_name('es_ES.utf8')\n",
    "data['day_compra']= data['fecha_compra'].dt.day_name('es_ES.utf-8')\n",
    "data['fecha_compra'] = data['fecha_compra'].dt.date"
   ]
  },
  {
   "cell_type": "code",
   "execution_count": 48,
   "id": "5436101c-f80d-48ed-86ee-9c3274f8a8d3",
   "metadata": {},
   "outputs": [],
   "source": [
    "data.to_csv('data/dataset.csv', sep=',', index=False, encoding='utf-8')"
   ]
  },
  {
   "cell_type": "code",
   "execution_count": 47,
   "id": "2f7eeb47-913c-485d-aba6-87a160bacbc6",
   "metadata": {},
   "outputs": [
    {
     "name": "stdout",
     "output_type": "stream",
     "text": [
      "<class 'pandas.core.frame.DataFrame'>\n",
      "RangeIndex: 94610 entries, 0 to 94609\n",
      "Data columns (total 13 columns):\n",
      " #   Column                  Non-Null Count  Dtype  \n",
      "---  ------                  --------------  -----  \n",
      " 0   num_documento_cliente   94610 non-null  object \n",
      " 1   tipo_documento_cliente  94610 non-null  object \n",
      " 2   codigo_tienda           94610 non-null  object \n",
      " 3   total_compra            94610 non-null  float64\n",
      " 4   tipo_tienda             94610 non-null  object \n",
      " 5   latitud_tienda          94610 non-null  float64\n",
      " 6   longitud_tienda         94610 non-null  float64\n",
      " 7   id_barrio               94610 non-null  object \n",
      " 8   nombre_barrio           94610 non-null  object \n",
      " 9   fecha_compra            94610 non-null  object \n",
      " 10  year_compra             94610 non-null  int32  \n",
      " 11  month_compra            94610 non-null  object \n",
      " 12  day_compra              94610 non-null  object \n",
      "dtypes: float64(3), int32(1), object(9)\n",
      "memory usage: 9.0+ MB\n"
     ]
    }
   ],
   "source": [
    "data.info()"
   ]
  },
  {
   "cell_type": "code",
   "execution_count": 8,
   "id": "aaf75a8b-7203-4979-811c-b35e8c2dc2b0",
   "metadata": {},
   "outputs": [],
   "source": [
    "data['id_documento'] = data['num_documento_cliente'] + 'T-' + data['tipo_documento_cliente']"
   ]
  },
  {
   "cell_type": "code",
   "execution_count": 9,
   "id": "c7e76761-9373-4536-b9ab-e40bf4070839",
   "metadata": {},
   "outputs": [
    {
     "data": {
      "text/plain": [
       "94610"
      ]
     },
     "execution_count": 9,
     "metadata": {},
     "output_type": "execute_result"
    }
   ],
   "source": [
    "len(data)"
   ]
  },
  {
   "cell_type": "code",
   "execution_count": 10,
   "id": "00aac983-962d-40b1-83bd-20d09b4420fd",
   "metadata": {},
   "outputs": [],
   "source": [
    "documentos = data.loc[:, ['id_documento', 'num_documento_cliente', 'tipo_documento_cliente']]"
   ]
  },
  {
   "cell_type": "code",
   "execution_count": 11,
   "id": "5748c073-0393-4177-8790-10c27440e326",
   "metadata": {},
   "outputs": [
    {
     "data": {
      "text/plain": [
       "94610"
      ]
     },
     "execution_count": 11,
     "metadata": {},
     "output_type": "execute_result"
    }
   ],
   "source": [
    "len(documentos)"
   ]
  },
  {
   "cell_type": "code",
   "execution_count": 12,
   "id": "39b5713e-8e0f-4358-b7d9-80fa5ebf1b31",
   "metadata": {},
   "outputs": [
    {
     "data": {
      "text/html": [
       "<div>\n",
       "<style scoped>\n",
       "    .dataframe tbody tr th:only-of-type {\n",
       "        vertical-align: middle;\n",
       "    }\n",
       "\n",
       "    .dataframe tbody tr th {\n",
       "        vertical-align: top;\n",
       "    }\n",
       "\n",
       "    .dataframe thead th {\n",
       "        text-align: right;\n",
       "    }\n",
       "</style>\n",
       "<table border=\"1\" class=\"dataframe\">\n",
       "  <thead>\n",
       "    <tr style=\"text-align: right;\">\n",
       "      <th></th>\n",
       "      <th>id_documento</th>\n",
       "      <th>num_documento_cliente</th>\n",
       "      <th>tipo_documento_cliente</th>\n",
       "    </tr>\n",
       "  </thead>\n",
       "  <tbody>\n",
       "    <tr>\n",
       "      <th>0</th>\n",
       "      <td>6861792605025121524T-1</td>\n",
       "      <td>6861792605025121524</td>\n",
       "      <td>1</td>\n",
       "    </tr>\n",
       "    <tr>\n",
       "      <th>1</th>\n",
       "      <td>1552970090928921643T-1</td>\n",
       "      <td>1552970090928921643</td>\n",
       "      <td>1</td>\n",
       "    </tr>\n",
       "    <tr>\n",
       "      <th>2</th>\n",
       "      <td>-4075904842556875666T-1</td>\n",
       "      <td>-4075904842556875666</td>\n",
       "      <td>1</td>\n",
       "    </tr>\n",
       "    <tr>\n",
       "      <th>3</th>\n",
       "      <td>3539339627033221084T-1</td>\n",
       "      <td>3539339627033221084</td>\n",
       "      <td>1</td>\n",
       "    </tr>\n",
       "    <tr>\n",
       "      <th>4</th>\n",
       "      <td>5595554501572542610T-1</td>\n",
       "      <td>5595554501572542610</td>\n",
       "      <td>1</td>\n",
       "    </tr>\n",
       "  </tbody>\n",
       "</table>\n",
       "</div>"
      ],
      "text/plain": [
       "              id_documento num_documento_cliente tipo_documento_cliente\n",
       "0   6861792605025121524T-1   6861792605025121524                      1\n",
       "1   1552970090928921643T-1   1552970090928921643                      1\n",
       "2  -4075904842556875666T-1  -4075904842556875666                      1\n",
       "3   3539339627033221084T-1   3539339627033221084                      1\n",
       "4   5595554501572542610T-1   5595554501572542610                      1"
      ]
     },
     "execution_count": 12,
     "metadata": {},
     "output_type": "execute_result"
    }
   ],
   "source": [
    "documentos.head()"
   ]
  },
  {
   "cell_type": "code",
   "execution_count": 13,
   "id": "4b43ca9f-759b-4a85-96aa-bf91f1eafdc5",
   "metadata": {},
   "outputs": [],
   "source": [
    "documentos.drop_duplicates('id_documento', inplace=True)"
   ]
  },
  {
   "cell_type": "code",
   "execution_count": 14,
   "id": "4351c49b-afde-4f3b-84a9-f1d634a091fd",
   "metadata": {},
   "outputs": [
    {
     "data": {
      "text/plain": [
       "11541"
      ]
     },
     "execution_count": 14,
     "metadata": {},
     "output_type": "execute_result"
    }
   ],
   "source": [
    "len(documentos)"
   ]
  },
  {
   "cell_type": "code",
   "execution_count": 15,
   "id": "98a59089-e350-4161-b9dd-a3554b7d95d3",
   "metadata": {},
   "outputs": [],
   "source": [
    "documentos.to_csv('data/dimension_documento.csv', sep=',', index=False)"
   ]
  },
  {
   "cell_type": "code",
   "execution_count": 16,
   "id": "75e9b09b-0a53-4ed0-8877-660f59eef77a",
   "metadata": {},
   "outputs": [
    {
     "data": {
      "text/html": [
       "<div>\n",
       "<style scoped>\n",
       "    .dataframe tbody tr th:only-of-type {\n",
       "        vertical-align: middle;\n",
       "    }\n",
       "\n",
       "    .dataframe tbody tr th {\n",
       "        vertical-align: top;\n",
       "    }\n",
       "\n",
       "    .dataframe thead th {\n",
       "        text-align: right;\n",
       "    }\n",
       "</style>\n",
       "<table border=\"1\" class=\"dataframe\">\n",
       "  <thead>\n",
       "    <tr style=\"text-align: right;\">\n",
       "      <th></th>\n",
       "      <th>id_documento</th>\n",
       "      <th>num_documento_cliente</th>\n",
       "      <th>tipo_documento_cliente</th>\n",
       "    </tr>\n",
       "  </thead>\n",
       "  <tbody>\n",
       "    <tr>\n",
       "      <th>0</th>\n",
       "      <td>6861792605025121524T-1</td>\n",
       "      <td>6861792605025121524</td>\n",
       "      <td>1</td>\n",
       "    </tr>\n",
       "    <tr>\n",
       "      <th>1</th>\n",
       "      <td>1552970090928921643T-1</td>\n",
       "      <td>1552970090928921643</td>\n",
       "      <td>1</td>\n",
       "    </tr>\n",
       "    <tr>\n",
       "      <th>2</th>\n",
       "      <td>-4075904842556875666T-1</td>\n",
       "      <td>-4075904842556875666</td>\n",
       "      <td>1</td>\n",
       "    </tr>\n",
       "    <tr>\n",
       "      <th>3</th>\n",
       "      <td>3539339627033221084T-1</td>\n",
       "      <td>3539339627033221084</td>\n",
       "      <td>1</td>\n",
       "    </tr>\n",
       "    <tr>\n",
       "      <th>4</th>\n",
       "      <td>5595554501572542610T-1</td>\n",
       "      <td>5595554501572542610</td>\n",
       "      <td>1</td>\n",
       "    </tr>\n",
       "  </tbody>\n",
       "</table>\n",
       "</div>"
      ],
      "text/plain": [
       "              id_documento num_documento_cliente tipo_documento_cliente\n",
       "0   6861792605025121524T-1   6861792605025121524                      1\n",
       "1   1552970090928921643T-1   1552970090928921643                      1\n",
       "2  -4075904842556875666T-1  -4075904842556875666                      1\n",
       "3   3539339627033221084T-1   3539339627033221084                      1\n",
       "4   5595554501572542610T-1   5595554501572542610                      1"
      ]
     },
     "execution_count": 16,
     "metadata": {},
     "output_type": "execute_result"
    }
   ],
   "source": [
    "documentos.head()"
   ]
  },
  {
   "cell_type": "code",
   "execution_count": 17,
   "id": "7019aba6-612f-4760-9a6a-60fe23bb8b79",
   "metadata": {},
   "outputs": [],
   "source": [
    "data.drop(['num_documento_cliente', 'tipo_documento_cliente'], axis=1, inplace=True)"
   ]
  },
  {
   "cell_type": "code",
   "execution_count": 18,
   "id": "e2fdc96f-0c09-43f6-83cd-a14868998389",
   "metadata": {},
   "outputs": [
    {
     "data": {
      "text/plain": [
       "94610"
      ]
     },
     "execution_count": 18,
     "metadata": {},
     "output_type": "execute_result"
    }
   ],
   "source": [
    "len(data)"
   ]
  },
  {
   "cell_type": "code",
   "execution_count": 19,
   "id": "972fac21-4ce8-45ca-a9b7-99838ebfbe6e",
   "metadata": {},
   "outputs": [],
   "source": [
    "data.drop_duplicates(inplace=True)"
   ]
  },
  {
   "cell_type": "code",
   "execution_count": 20,
   "id": "6251349c-54b1-44cd-94d6-633ddce6687c",
   "metadata": {},
   "outputs": [
    {
     "data": {
      "text/plain": [
       "94609"
      ]
     },
     "execution_count": 20,
     "metadata": {},
     "output_type": "execute_result"
    }
   ],
   "source": [
    "len(data)"
   ]
  },
  {
   "cell_type": "code",
   "execution_count": 21,
   "id": "40876646-70aa-48fc-b099-9c816cb42361",
   "metadata": {},
   "outputs": [
    {
     "data": {
      "text/html": [
       "<div>\n",
       "<style scoped>\n",
       "    .dataframe tbody tr th:only-of-type {\n",
       "        vertical-align: middle;\n",
       "    }\n",
       "\n",
       "    .dataframe tbody tr th {\n",
       "        vertical-align: top;\n",
       "    }\n",
       "\n",
       "    .dataframe thead th {\n",
       "        text-align: right;\n",
       "    }\n",
       "</style>\n",
       "<table border=\"1\" class=\"dataframe\">\n",
       "  <thead>\n",
       "    <tr style=\"text-align: right;\">\n",
       "      <th></th>\n",
       "      <th>codigo_tienda</th>\n",
       "      <th>total_compra</th>\n",
       "      <th>tipo_tienda</th>\n",
       "      <th>latitud_tienda</th>\n",
       "      <th>longitud_tienda</th>\n",
       "      <th>id_barrio</th>\n",
       "      <th>nombre_barrio</th>\n",
       "      <th>fecha_compra</th>\n",
       "      <th>year_compra</th>\n",
       "      <th>month_compra</th>\n",
       "      <th>id_documento</th>\n",
       "    </tr>\n",
       "  </thead>\n",
       "  <tbody>\n",
       "    <tr>\n",
       "      <th>0</th>\n",
       "      <td>14812028</td>\n",
       "      <td>22218042.0</td>\n",
       "      <td>Tienda especializada</td>\n",
       "      <td>3.40211808</td>\n",
       "      <td>-76.52568134</td>\n",
       "      <td>737998244</td>\n",
       "      <td>Canaverales Los Samanes</td>\n",
       "      <td>2022-06-15</td>\n",
       "      <td>2022</td>\n",
       "      <td>June</td>\n",
       "      <td>6861792605025121524T-1</td>\n",
       "    </tr>\n",
       "    <tr>\n",
       "      <th>1</th>\n",
       "      <td>14388938</td>\n",
       "      <td>21583407.0</td>\n",
       "      <td>Tienda especializada</td>\n",
       "      <td>3.468765417</td>\n",
       "      <td>-76.48493586</td>\n",
       "      <td>737998896</td>\n",
       "      <td>Jorge Eliecer Gaitan</td>\n",
       "      <td>2022-10-02</td>\n",
       "      <td>2022</td>\n",
       "      <td>October</td>\n",
       "      <td>1552970090928921643T-1</td>\n",
       "    </tr>\n",
       "    <tr>\n",
       "      <th>2</th>\n",
       "      <td>12370698</td>\n",
       "      <td>6185349.0</td>\n",
       "      <td>Tienda especializada</td>\n",
       "      <td>3.40074292</td>\n",
       "      <td>-76.52483946</td>\n",
       "      <td>737998244</td>\n",
       "      <td>Canaverales Los Samanes</td>\n",
       "      <td>2022-01-10</td>\n",
       "      <td>2022</td>\n",
       "      <td>January</td>\n",
       "      <td>-4075904842556875666T-1</td>\n",
       "    </tr>\n",
       "    <tr>\n",
       "      <th>3</th>\n",
       "      <td>10313583</td>\n",
       "      <td>10313583.0</td>\n",
       "      <td>Tienda especializada</td>\n",
       "      <td>3.369543673</td>\n",
       "      <td>-76.52366403</td>\n",
       "      <td>738000400</td>\n",
       "      <td>Lili</td>\n",
       "      <td>2022-09-02</td>\n",
       "      <td>2022</td>\n",
       "      <td>September</td>\n",
       "      <td>3539339627033221084T-1</td>\n",
       "    </tr>\n",
       "    <tr>\n",
       "      <th>4</th>\n",
       "      <td>14358071</td>\n",
       "      <td>28716142.0</td>\n",
       "      <td>Tienda especializada</td>\n",
       "      <td>3.419045741</td>\n",
       "      <td>-76.49772993</td>\n",
       "      <td>737996734</td>\n",
       "      <td>El Poblado</td>\n",
       "      <td>2022-03-20</td>\n",
       "      <td>2022</td>\n",
       "      <td>March</td>\n",
       "      <td>5595554501572542610T-1</td>\n",
       "    </tr>\n",
       "    <tr>\n",
       "      <th>...</th>\n",
       "      <td>...</td>\n",
       "      <td>...</td>\n",
       "      <td>...</td>\n",
       "      <td>...</td>\n",
       "      <td>...</td>\n",
       "      <td>...</td>\n",
       "      <td>...</td>\n",
       "      <td>...</td>\n",
       "      <td>...</td>\n",
       "      <td>...</td>\n",
       "      <td>...</td>\n",
       "    </tr>\n",
       "    <tr>\n",
       "      <th>94605</th>\n",
       "      <td>1116</td>\n",
       "      <td>558.0</td>\n",
       "      <td>Supermercado</td>\n",
       "      <td>3.47740375</td>\n",
       "      <td>-76.52670515</td>\n",
       "      <td>737998252</td>\n",
       "      <td>Chipichape</td>\n",
       "      <td>2022-04-30</td>\n",
       "      <td>2022</td>\n",
       "      <td>April</td>\n",
       "      <td>-6859292209449934659T-2</td>\n",
       "    </tr>\n",
       "    <tr>\n",
       "      <th>94606</th>\n",
       "      <td>745</td>\n",
       "      <td>372.5</td>\n",
       "      <td>Tienda Outlet</td>\n",
       "      <td>3.41432528</td>\n",
       "      <td>-76.54798624</td>\n",
       "      <td>737998095</td>\n",
       "      <td>Unidad Residencial Santiago de Cali</td>\n",
       "      <td>2022-01-07</td>\n",
       "      <td>2022</td>\n",
       "      <td>January</td>\n",
       "      <td>-1762474661445594290T-2</td>\n",
       "    </tr>\n",
       "    <tr>\n",
       "      <th>94607</th>\n",
       "      <td>745</td>\n",
       "      <td>372.5</td>\n",
       "      <td>Supermercado</td>\n",
       "      <td>3.45120421</td>\n",
       "      <td>-76.5329424</td>\n",
       "      <td>737998832</td>\n",
       "      <td>San Pedro</td>\n",
       "      <td>2022-11-09</td>\n",
       "      <td>2022</td>\n",
       "      <td>November</td>\n",
       "      <td>-1762474661445594290T-2</td>\n",
       "    </tr>\n",
       "    <tr>\n",
       "      <th>94608</th>\n",
       "      <td>4090</td>\n",
       "      <td>2045.0</td>\n",
       "      <td>Supermercado</td>\n",
       "      <td>3.42755068</td>\n",
       "      <td>-76.49999127</td>\n",
       "      <td>737995769</td>\n",
       "      <td>Julio Rincón</td>\n",
       "      <td>2022-06-15</td>\n",
       "      <td>2022</td>\n",
       "      <td>June</td>\n",
       "      <td>-2708241712915270749T-2</td>\n",
       "    </tr>\n",
       "    <tr>\n",
       "      <th>94609</th>\n",
       "      <td>15409667</td>\n",
       "      <td>15409667.0</td>\n",
       "      <td>Tienda especializada</td>\n",
       "      <td>3.450511126</td>\n",
       "      <td>-76.53831413</td>\n",
       "      <td>737998685</td>\n",
       "      <td>El Peñón</td>\n",
       "      <td>2022-02-11</td>\n",
       "      <td>2022</td>\n",
       "      <td>February</td>\n",
       "      <td>4476350616100556296T-2</td>\n",
       "    </tr>\n",
       "  </tbody>\n",
       "</table>\n",
       "<p>94609 rows × 11 columns</p>\n",
       "</div>"
      ],
      "text/plain": [
       "      codigo_tienda  total_compra           tipo_tienda latitud_tienda  \\\n",
       "0          14812028    22218042.0  Tienda especializada     3.40211808   \n",
       "1          14388938    21583407.0  Tienda especializada    3.468765417   \n",
       "2          12370698     6185349.0  Tienda especializada     3.40074292   \n",
       "3          10313583    10313583.0  Tienda especializada    3.369543673   \n",
       "4          14358071    28716142.0  Tienda especializada    3.419045741   \n",
       "...             ...           ...                   ...            ...   \n",
       "94605          1116         558.0          Supermercado     3.47740375   \n",
       "94606           745         372.5         Tienda Outlet     3.41432528   \n",
       "94607           745         372.5          Supermercado     3.45120421   \n",
       "94608          4090        2045.0          Supermercado     3.42755068   \n",
       "94609      15409667    15409667.0  Tienda especializada    3.450511126   \n",
       "\n",
       "      longitud_tienda  id_barrio                        nombre_barrio  \\\n",
       "0        -76.52568134  737998244              Canaverales Los Samanes   \n",
       "1        -76.48493586  737998896                 Jorge Eliecer Gaitan   \n",
       "2        -76.52483946  737998244              Canaverales Los Samanes   \n",
       "3        -76.52366403  738000400                                 Lili   \n",
       "4        -76.49772993  737996734                           El Poblado   \n",
       "...               ...        ...                                  ...   \n",
       "94605    -76.52670515  737998252                           Chipichape   \n",
       "94606    -76.54798624  737998095  Unidad Residencial Santiago de Cali   \n",
       "94607     -76.5329424  737998832                            San Pedro   \n",
       "94608    -76.49999127  737995769                         Julio Rincón   \n",
       "94609    -76.53831413  737998685                             El Peñón   \n",
       "\n",
       "      fecha_compra  year_compra month_compra             id_documento  \n",
       "0       2022-06-15         2022         June   6861792605025121524T-1  \n",
       "1       2022-10-02         2022      October   1552970090928921643T-1  \n",
       "2       2022-01-10         2022      January  -4075904842556875666T-1  \n",
       "3       2022-09-02         2022    September   3539339627033221084T-1  \n",
       "4       2022-03-20         2022        March   5595554501572542610T-1  \n",
       "...            ...          ...          ...                      ...  \n",
       "94605   2022-04-30         2022        April  -6859292209449934659T-2  \n",
       "94606   2022-01-07         2022      January  -1762474661445594290T-2  \n",
       "94607   2022-11-09         2022     November  -1762474661445594290T-2  \n",
       "94608   2022-06-15         2022         June  -2708241712915270749T-2  \n",
       "94609   2022-02-11         2022     February   4476350616100556296T-2  \n",
       "\n",
       "[94609 rows x 11 columns]"
      ]
     },
     "execution_count": 21,
     "metadata": {},
     "output_type": "execute_result"
    }
   ],
   "source": [
    "data"
   ]
  },
  {
   "cell_type": "code",
   "execution_count": 22,
   "id": "f825b540-8537-46cb-b7dd-500833395753",
   "metadata": {},
   "outputs": [],
   "source": [
    "prueba = pd.merge(data, documentos, on='id_documento', how='left')"
   ]
  },
  {
   "cell_type": "code",
   "execution_count": 23,
   "id": "f0f05444-555b-4866-a537-7c8ea7166bda",
   "metadata": {},
   "outputs": [
    {
     "data": {
      "text/plain": [
       "94609"
      ]
     },
     "execution_count": 23,
     "metadata": {},
     "output_type": "execute_result"
    }
   ],
   "source": [
    "len(prueba)"
   ]
  },
  {
   "cell_type": "code",
   "execution_count": 24,
   "id": "2d71b556-6182-4d9c-95e0-e67be97a3efa",
   "metadata": {},
   "outputs": [],
   "source": [
    "tiendas = data.loc[:, ['codigo_tienda', 'tipo_tienda', 'latitud_tienda', 'longitud_tienda']]"
   ]
  },
  {
   "cell_type": "code",
   "execution_count": 25,
   "id": "bf9e789d-76ca-444e-ac79-4f12f3852578",
   "metadata": {},
   "outputs": [],
   "source": [
    "tiendas.drop_duplicates(inplace=True)"
   ]
  },
  {
   "cell_type": "code",
   "execution_count": 26,
   "id": "c2fe929d-2eb4-4845-a70c-4536728f61ed",
   "metadata": {},
   "outputs": [
    {
     "data": {
      "text/plain": [
       "6014"
      ]
     },
     "execution_count": 26,
     "metadata": {},
     "output_type": "execute_result"
    }
   ],
   "source": [
    "tiendas.codigo_tienda.nunique()"
   ]
  },
  {
   "cell_type": "code",
   "execution_count": 27,
   "id": "d15ae071-1078-4cb5-bfc8-1decc288377d",
   "metadata": {},
   "outputs": [
    {
     "data": {
      "text/html": [
       "<div>\n",
       "<style scoped>\n",
       "    .dataframe tbody tr th:only-of-type {\n",
       "        vertical-align: middle;\n",
       "    }\n",
       "\n",
       "    .dataframe tbody tr th {\n",
       "        vertical-align: top;\n",
       "    }\n",
       "\n",
       "    .dataframe thead th {\n",
       "        text-align: right;\n",
       "    }\n",
       "</style>\n",
       "<table border=\"1\" class=\"dataframe\">\n",
       "  <thead>\n",
       "    <tr style=\"text-align: right;\">\n",
       "      <th></th>\n",
       "      <th>codigo_tienda</th>\n",
       "      <th>tipo_tienda</th>\n",
       "      <th>latitud_tienda</th>\n",
       "      <th>longitud_tienda</th>\n",
       "    </tr>\n",
       "  </thead>\n",
       "  <tbody>\n",
       "    <tr>\n",
       "      <th>1662</th>\n",
       "      <td>745</td>\n",
       "      <td>Tienda Outlet</td>\n",
       "      <td>3.41432528</td>\n",
       "      <td>-76.54798624</td>\n",
       "    </tr>\n",
       "    <tr>\n",
       "      <th>1663</th>\n",
       "      <td>745</td>\n",
       "      <td>Supermercado</td>\n",
       "      <td>3.45120421</td>\n",
       "      <td>-76.5329424</td>\n",
       "    </tr>\n",
       "    <tr>\n",
       "      <th>1779</th>\n",
       "      <td>747</td>\n",
       "      <td>Tienda Outlet</td>\n",
       "      <td>3.48580695</td>\n",
       "      <td>-76.51629204</td>\n",
       "    </tr>\n",
       "    <tr>\n",
       "      <th>1780</th>\n",
       "      <td>747</td>\n",
       "      <td>Supermercado</td>\n",
       "      <td>3.45120421</td>\n",
       "      <td>-76.5329424</td>\n",
       "    </tr>\n",
       "  </tbody>\n",
       "</table>\n",
       "</div>"
      ],
      "text/plain": [
       "     codigo_tienda    tipo_tienda latitud_tienda longitud_tienda\n",
       "1662           745  Tienda Outlet     3.41432528    -76.54798624\n",
       "1663           745   Supermercado     3.45120421     -76.5329424\n",
       "1779           747  Tienda Outlet     3.48580695    -76.51629204\n",
       "1780           747   Supermercado     3.45120421     -76.5329424"
      ]
     },
     "execution_count": 27,
     "metadata": {},
     "output_type": "execute_result"
    }
   ],
   "source": [
    "tiendas[tiendas.duplicated('codigo_tienda', keep=False)]"
   ]
  },
  {
   "cell_type": "code",
   "execution_count": 28,
   "id": "98415f65-064b-48c3-b0ee-a3b0d073fb42",
   "metadata": {},
   "outputs": [],
   "source": [
    "data['id_tienda'] = data['codigo_tienda'] +'LAT' + data['latitud_tienda'] + 'LON' +data['longitud_tienda']"
   ]
  },
  {
   "cell_type": "code",
   "execution_count": 29,
   "id": "a4367098-c3b7-497b-91dc-c351dcf7af6c",
   "metadata": {},
   "outputs": [
    {
     "data": {
      "text/plain": [
       "6016"
      ]
     },
     "execution_count": 29,
     "metadata": {},
     "output_type": "execute_result"
    }
   ],
   "source": [
    "tiendas = data.loc[:, ['id_tienda', 'codigo_tienda', 'tipo_tienda', 'latitud_tienda', 'longitud_tienda']]\n",
    "tiendas.drop_duplicates(inplace=True)\n",
    "tiendas.id_tienda.nunique()"
   ]
  },
  {
   "cell_type": "code",
   "execution_count": 30,
   "id": "2e0078c5-827e-48d3-b4c3-86d6417d4fe1",
   "metadata": {},
   "outputs": [],
   "source": [
    "data.drop(['codigo_tienda', 'tipo_tienda', 'latitud_tienda', 'longitud_tienda'], axis=1, inplace=True)"
   ]
  },
  {
   "cell_type": "code",
   "execution_count": 31,
   "id": "b12d0412-cf10-4e8a-a2e5-3c3a6cbff6d6",
   "metadata": {},
   "outputs": [
    {
     "data": {
      "text/html": [
       "<div>\n",
       "<style scoped>\n",
       "    .dataframe tbody tr th:only-of-type {\n",
       "        vertical-align: middle;\n",
       "    }\n",
       "\n",
       "    .dataframe tbody tr th {\n",
       "        vertical-align: top;\n",
       "    }\n",
       "\n",
       "    .dataframe thead th {\n",
       "        text-align: right;\n",
       "    }\n",
       "</style>\n",
       "<table border=\"1\" class=\"dataframe\">\n",
       "  <thead>\n",
       "    <tr style=\"text-align: right;\">\n",
       "      <th></th>\n",
       "      <th>total_compra</th>\n",
       "      <th>id_barrio</th>\n",
       "      <th>nombre_barrio</th>\n",
       "      <th>fecha_compra</th>\n",
       "      <th>year_compra</th>\n",
       "      <th>month_compra</th>\n",
       "      <th>id_documento</th>\n",
       "      <th>id_tienda</th>\n",
       "    </tr>\n",
       "  </thead>\n",
       "  <tbody>\n",
       "    <tr>\n",
       "      <th>0</th>\n",
       "      <td>22218042.0</td>\n",
       "      <td>737998244</td>\n",
       "      <td>Canaverales Los Samanes</td>\n",
       "      <td>2022-06-15</td>\n",
       "      <td>2022</td>\n",
       "      <td>June</td>\n",
       "      <td>6861792605025121524T-1</td>\n",
       "      <td>14812028LAT3.40211808LON-76.52568134</td>\n",
       "    </tr>\n",
       "    <tr>\n",
       "      <th>1</th>\n",
       "      <td>21583407.0</td>\n",
       "      <td>737998896</td>\n",
       "      <td>Jorge Eliecer Gaitan</td>\n",
       "      <td>2022-10-02</td>\n",
       "      <td>2022</td>\n",
       "      <td>October</td>\n",
       "      <td>1552970090928921643T-1</td>\n",
       "      <td>14388938LAT3.468765417LON-76.48493586</td>\n",
       "    </tr>\n",
       "    <tr>\n",
       "      <th>2</th>\n",
       "      <td>6185349.0</td>\n",
       "      <td>737998244</td>\n",
       "      <td>Canaverales Los Samanes</td>\n",
       "      <td>2022-01-10</td>\n",
       "      <td>2022</td>\n",
       "      <td>January</td>\n",
       "      <td>-4075904842556875666T-1</td>\n",
       "      <td>12370698LAT3.40074292LON-76.52483946</td>\n",
       "    </tr>\n",
       "    <tr>\n",
       "      <th>3</th>\n",
       "      <td>10313583.0</td>\n",
       "      <td>738000400</td>\n",
       "      <td>Lili</td>\n",
       "      <td>2022-09-02</td>\n",
       "      <td>2022</td>\n",
       "      <td>September</td>\n",
       "      <td>3539339627033221084T-1</td>\n",
       "      <td>10313583LAT3.369543673LON-76.52366403</td>\n",
       "    </tr>\n",
       "    <tr>\n",
       "      <th>4</th>\n",
       "      <td>28716142.0</td>\n",
       "      <td>737996734</td>\n",
       "      <td>El Poblado</td>\n",
       "      <td>2022-03-20</td>\n",
       "      <td>2022</td>\n",
       "      <td>March</td>\n",
       "      <td>5595554501572542610T-1</td>\n",
       "      <td>14358071LAT3.419045741LON-76.49772993</td>\n",
       "    </tr>\n",
       "    <tr>\n",
       "      <th>...</th>\n",
       "      <td>...</td>\n",
       "      <td>...</td>\n",
       "      <td>...</td>\n",
       "      <td>...</td>\n",
       "      <td>...</td>\n",
       "      <td>...</td>\n",
       "      <td>...</td>\n",
       "      <td>...</td>\n",
       "    </tr>\n",
       "    <tr>\n",
       "      <th>94605</th>\n",
       "      <td>558.0</td>\n",
       "      <td>737998252</td>\n",
       "      <td>Chipichape</td>\n",
       "      <td>2022-04-30</td>\n",
       "      <td>2022</td>\n",
       "      <td>April</td>\n",
       "      <td>-6859292209449934659T-2</td>\n",
       "      <td>1116LAT3.47740375LON-76.52670515</td>\n",
       "    </tr>\n",
       "    <tr>\n",
       "      <th>94606</th>\n",
       "      <td>372.5</td>\n",
       "      <td>737998095</td>\n",
       "      <td>Unidad Residencial Santiago de Cali</td>\n",
       "      <td>2022-01-07</td>\n",
       "      <td>2022</td>\n",
       "      <td>January</td>\n",
       "      <td>-1762474661445594290T-2</td>\n",
       "      <td>745LAT3.41432528LON-76.54798624</td>\n",
       "    </tr>\n",
       "    <tr>\n",
       "      <th>94607</th>\n",
       "      <td>372.5</td>\n",
       "      <td>737998832</td>\n",
       "      <td>San Pedro</td>\n",
       "      <td>2022-11-09</td>\n",
       "      <td>2022</td>\n",
       "      <td>November</td>\n",
       "      <td>-1762474661445594290T-2</td>\n",
       "      <td>745LAT3.45120421LON-76.5329424</td>\n",
       "    </tr>\n",
       "    <tr>\n",
       "      <th>94608</th>\n",
       "      <td>2045.0</td>\n",
       "      <td>737995769</td>\n",
       "      <td>Julio Rincón</td>\n",
       "      <td>2022-06-15</td>\n",
       "      <td>2022</td>\n",
       "      <td>June</td>\n",
       "      <td>-2708241712915270749T-2</td>\n",
       "      <td>4090LAT3.42755068LON-76.49999127</td>\n",
       "    </tr>\n",
       "    <tr>\n",
       "      <th>94609</th>\n",
       "      <td>15409667.0</td>\n",
       "      <td>737998685</td>\n",
       "      <td>El Peñón</td>\n",
       "      <td>2022-02-11</td>\n",
       "      <td>2022</td>\n",
       "      <td>February</td>\n",
       "      <td>4476350616100556296T-2</td>\n",
       "      <td>15409667LAT3.450511126LON-76.53831413</td>\n",
       "    </tr>\n",
       "  </tbody>\n",
       "</table>\n",
       "<p>94609 rows × 8 columns</p>\n",
       "</div>"
      ],
      "text/plain": [
       "       total_compra  id_barrio                        nombre_barrio  \\\n",
       "0        22218042.0  737998244              Canaverales Los Samanes   \n",
       "1        21583407.0  737998896                 Jorge Eliecer Gaitan   \n",
       "2         6185349.0  737998244              Canaverales Los Samanes   \n",
       "3        10313583.0  738000400                                 Lili   \n",
       "4        28716142.0  737996734                           El Poblado   \n",
       "...             ...        ...                                  ...   \n",
       "94605         558.0  737998252                           Chipichape   \n",
       "94606         372.5  737998095  Unidad Residencial Santiago de Cali   \n",
       "94607         372.5  737998832                            San Pedro   \n",
       "94608        2045.0  737995769                         Julio Rincón   \n",
       "94609    15409667.0  737998685                             El Peñón   \n",
       "\n",
       "      fecha_compra  year_compra month_compra             id_documento  \\\n",
       "0       2022-06-15         2022         June   6861792605025121524T-1   \n",
       "1       2022-10-02         2022      October   1552970090928921643T-1   \n",
       "2       2022-01-10         2022      January  -4075904842556875666T-1   \n",
       "3       2022-09-02         2022    September   3539339627033221084T-1   \n",
       "4       2022-03-20         2022        March   5595554501572542610T-1   \n",
       "...            ...          ...          ...                      ...   \n",
       "94605   2022-04-30         2022        April  -6859292209449934659T-2   \n",
       "94606   2022-01-07         2022      January  -1762474661445594290T-2   \n",
       "94607   2022-11-09         2022     November  -1762474661445594290T-2   \n",
       "94608   2022-06-15         2022         June  -2708241712915270749T-2   \n",
       "94609   2022-02-11         2022     February   4476350616100556296T-2   \n",
       "\n",
       "                                   id_tienda  \n",
       "0       14812028LAT3.40211808LON-76.52568134  \n",
       "1      14388938LAT3.468765417LON-76.48493586  \n",
       "2       12370698LAT3.40074292LON-76.52483946  \n",
       "3      10313583LAT3.369543673LON-76.52366403  \n",
       "4      14358071LAT3.419045741LON-76.49772993  \n",
       "...                                      ...  \n",
       "94605       1116LAT3.47740375LON-76.52670515  \n",
       "94606        745LAT3.41432528LON-76.54798624  \n",
       "94607         745LAT3.45120421LON-76.5329424  \n",
       "94608       4090LAT3.42755068LON-76.49999127  \n",
       "94609  15409667LAT3.450511126LON-76.53831413  \n",
       "\n",
       "[94609 rows x 8 columns]"
      ]
     },
     "execution_count": 31,
     "metadata": {},
     "output_type": "execute_result"
    }
   ],
   "source": [
    "data"
   ]
  },
  {
   "cell_type": "code",
   "execution_count": 32,
   "id": "c7d64049-7e29-4b6a-979c-3325865fff8b",
   "metadata": {},
   "outputs": [],
   "source": [
    "data.drop_duplicates(inplace=True)"
   ]
  },
  {
   "cell_type": "code",
   "execution_count": 33,
   "id": "e6ca5068-97e1-4026-b9f7-72f40e94a2c3",
   "metadata": {},
   "outputs": [
    {
     "data": {
      "text/plain": [
       "94609"
      ]
     },
     "execution_count": 33,
     "metadata": {},
     "output_type": "execute_result"
    }
   ],
   "source": [
    "len(data)"
   ]
  },
  {
   "cell_type": "code",
   "execution_count": 34,
   "id": "2a9b0956-5cab-4df5-a94d-74c6af16cc9d",
   "metadata": {},
   "outputs": [],
   "source": [
    "prueba = pd.merge(data, tiendas, on='id_tienda', how='left')"
   ]
  },
  {
   "cell_type": "code",
   "execution_count": 35,
   "id": "b6850e11-da07-44e3-811c-2b138e0319af",
   "metadata": {},
   "outputs": [
    {
     "data": {
      "text/plain": [
       "94609"
      ]
     },
     "execution_count": 35,
     "metadata": {},
     "output_type": "execute_result"
    }
   ],
   "source": [
    "len(prueba)"
   ]
  },
  {
   "cell_type": "code",
   "execution_count": 36,
   "id": "dbd2d057-ea86-43a4-a33c-1f733e2bfe3c",
   "metadata": {},
   "outputs": [],
   "source": [
    "tiendas.to_csv('data/dimension_tienda.csv', sep=',', index=False)"
   ]
  },
  {
   "cell_type": "code",
   "execution_count": 37,
   "id": "a9c3a808-ac7c-4740-9801-c5e25ad755dd",
   "metadata": {},
   "outputs": [
    {
     "data": {
      "text/html": [
       "<div>\n",
       "<style scoped>\n",
       "    .dataframe tbody tr th:only-of-type {\n",
       "        vertical-align: middle;\n",
       "    }\n",
       "\n",
       "    .dataframe tbody tr th {\n",
       "        vertical-align: top;\n",
       "    }\n",
       "\n",
       "    .dataframe thead th {\n",
       "        text-align: right;\n",
       "    }\n",
       "</style>\n",
       "<table border=\"1\" class=\"dataframe\">\n",
       "  <thead>\n",
       "    <tr style=\"text-align: right;\">\n",
       "      <th></th>\n",
       "      <th>id_tienda</th>\n",
       "      <th>codigo_tienda</th>\n",
       "      <th>tipo_tienda</th>\n",
       "      <th>latitud_tienda</th>\n",
       "      <th>longitud_tienda</th>\n",
       "    </tr>\n",
       "  </thead>\n",
       "  <tbody>\n",
       "    <tr>\n",
       "      <th>0</th>\n",
       "      <td>14812028LAT3.40211808LON-76.52568134</td>\n",
       "      <td>14812028</td>\n",
       "      <td>Tienda especializada</td>\n",
       "      <td>3.40211808</td>\n",
       "      <td>-76.52568134</td>\n",
       "    </tr>\n",
       "    <tr>\n",
       "      <th>1</th>\n",
       "      <td>14388938LAT3.468765417LON-76.48493586</td>\n",
       "      <td>14388938</td>\n",
       "      <td>Tienda especializada</td>\n",
       "      <td>3.468765417</td>\n",
       "      <td>-76.48493586</td>\n",
       "    </tr>\n",
       "    <tr>\n",
       "      <th>2</th>\n",
       "      <td>12370698LAT3.40074292LON-76.52483946</td>\n",
       "      <td>12370698</td>\n",
       "      <td>Tienda especializada</td>\n",
       "      <td>3.40074292</td>\n",
       "      <td>-76.52483946</td>\n",
       "    </tr>\n",
       "    <tr>\n",
       "      <th>3</th>\n",
       "      <td>10313583LAT3.369543673LON-76.52366403</td>\n",
       "      <td>10313583</td>\n",
       "      <td>Tienda especializada</td>\n",
       "      <td>3.369543673</td>\n",
       "      <td>-76.52366403</td>\n",
       "    </tr>\n",
       "    <tr>\n",
       "      <th>4</th>\n",
       "      <td>14358071LAT3.419045741LON-76.49772993</td>\n",
       "      <td>14358071</td>\n",
       "      <td>Tienda especializada</td>\n",
       "      <td>3.419045741</td>\n",
       "      <td>-76.49772993</td>\n",
       "    </tr>\n",
       "  </tbody>\n",
       "</table>\n",
       "</div>"
      ],
      "text/plain": [
       "                               id_tienda codigo_tienda           tipo_tienda  \\\n",
       "0   14812028LAT3.40211808LON-76.52568134      14812028  Tienda especializada   \n",
       "1  14388938LAT3.468765417LON-76.48493586      14388938  Tienda especializada   \n",
       "2   12370698LAT3.40074292LON-76.52483946      12370698  Tienda especializada   \n",
       "3  10313583LAT3.369543673LON-76.52366403      10313583  Tienda especializada   \n",
       "4  14358071LAT3.419045741LON-76.49772993      14358071  Tienda especializada   \n",
       "\n",
       "  latitud_tienda longitud_tienda  \n",
       "0     3.40211808    -76.52568134  \n",
       "1    3.468765417    -76.48493586  \n",
       "2     3.40074292    -76.52483946  \n",
       "3    3.369543673    -76.52366403  \n",
       "4    3.419045741    -76.49772993  "
      ]
     },
     "execution_count": 37,
     "metadata": {},
     "output_type": "execute_result"
    }
   ],
   "source": [
    "tiendas.head()"
   ]
  },
  {
   "cell_type": "code",
   "execution_count": 39,
   "id": "feb0aa15-f83c-4768-86fd-b53ddd303565",
   "metadata": {},
   "outputs": [],
   "source": [
    "barrios = data.loc[:, ['id_barrio', 'nombre_barrio']]"
   ]
  },
  {
   "cell_type": "code",
   "execution_count": 40,
   "id": "02a269d2-6377-4751-ba56-b1a78418ac0d",
   "metadata": {},
   "outputs": [],
   "source": [
    "barrios.drop_duplicates(inplace=True)"
   ]
  },
  {
   "cell_type": "code",
   "execution_count": 41,
   "id": "024c16b2-da82-4134-80ef-1215c61163f6",
   "metadata": {},
   "outputs": [
    {
     "data": {
      "text/plain": [
       "277"
      ]
     },
     "execution_count": 41,
     "metadata": {},
     "output_type": "execute_result"
    }
   ],
   "source": [
    "len(barrios)"
   ]
  },
  {
   "cell_type": "code",
   "execution_count": 42,
   "id": "d910badf-e5c4-44e6-a81d-e964eeabd452",
   "metadata": {},
   "outputs": [
    {
     "data": {
      "text/html": [
       "<div>\n",
       "<style scoped>\n",
       "    .dataframe tbody tr th:only-of-type {\n",
       "        vertical-align: middle;\n",
       "    }\n",
       "\n",
       "    .dataframe tbody tr th {\n",
       "        vertical-align: top;\n",
       "    }\n",
       "\n",
       "    .dataframe thead th {\n",
       "        text-align: right;\n",
       "    }\n",
       "</style>\n",
       "<table border=\"1\" class=\"dataframe\">\n",
       "  <thead>\n",
       "    <tr style=\"text-align: right;\">\n",
       "      <th></th>\n",
       "      <th>id_barrio</th>\n",
       "      <th>nombre_barrio</th>\n",
       "    </tr>\n",
       "  </thead>\n",
       "  <tbody>\n",
       "    <tr>\n",
       "      <th>0</th>\n",
       "      <td>737998244</td>\n",
       "      <td>Canaverales Los Samanes</td>\n",
       "    </tr>\n",
       "    <tr>\n",
       "      <th>1</th>\n",
       "      <td>737998896</td>\n",
       "      <td>Jorge Eliecer Gaitan</td>\n",
       "    </tr>\n",
       "    <tr>\n",
       "      <th>3</th>\n",
       "      <td>738000400</td>\n",
       "      <td>Lili</td>\n",
       "    </tr>\n",
       "    <tr>\n",
       "      <th>4</th>\n",
       "      <td>737996734</td>\n",
       "      <td>El Poblado</td>\n",
       "    </tr>\n",
       "    <tr>\n",
       "      <th>5</th>\n",
       "      <td>738000407</td>\n",
       "      <td>Urbanización San Juaquín</td>\n",
       "    </tr>\n",
       "  </tbody>\n",
       "</table>\n",
       "</div>"
      ],
      "text/plain": [
       "   id_barrio             nombre_barrio\n",
       "0  737998244   Canaverales Los Samanes\n",
       "1  737998896      Jorge Eliecer Gaitan\n",
       "3  738000400                      Lili\n",
       "4  737996734                El Poblado\n",
       "5  738000407  Urbanización San Juaquín"
      ]
     },
     "execution_count": 42,
     "metadata": {},
     "output_type": "execute_result"
    }
   ],
   "source": [
    "barrios.head()"
   ]
  },
  {
   "cell_type": "code",
   "execution_count": 43,
   "id": "f7e5bfb2-d37c-4254-b07d-78b87b7ee5b6",
   "metadata": {},
   "outputs": [
    {
     "data": {
      "text/plain": [
       "277"
      ]
     },
     "execution_count": 43,
     "metadata": {},
     "output_type": "execute_result"
    }
   ],
   "source": [
    "barrios.id_barrio.nunique()"
   ]
  },
  {
   "cell_type": "code",
   "execution_count": 44,
   "id": "9e97b834-326f-492c-a08a-d8b67c44fa00",
   "metadata": {},
   "outputs": [],
   "source": [
    "barrios.to_csv('data/dimension_barrio.csv', sep=',', index=False)"
   ]
  },
  {
   "cell_type": "code",
   "execution_count": 45,
   "id": "342e8d5c-323c-409f-9875-bdb16a11e71d",
   "metadata": {},
   "outputs": [],
   "source": [
    "data.drop(['nombre_barrio'], axis=1, inplace=True)"
   ]
  },
  {
   "cell_type": "code",
   "execution_count": 46,
   "id": "56b831da-7dc4-4c29-a6b9-9b865fa0c003",
   "metadata": {},
   "outputs": [],
   "source": [
    "data = data.loc[:, ['id_documento', 'id_tienda', 'id_barrio', 'total_compra', 'fecha_compra']]"
   ]
  },
  {
   "cell_type": "code",
   "execution_count": 47,
   "id": "8489dbf2-8bdc-47f8-a2aa-9094882d43ee",
   "metadata": {},
   "outputs": [],
   "source": [
    "data.to_csv('data/hecho_compra.csv', sep=',', index=False)"
   ]
  },
  {
   "cell_type": "code",
   "execution_count": 49,
   "id": "1227a057-afa2-42aa-a250-a6e25a5fac58",
   "metadata": {},
   "outputs": [
    {
     "data": {
      "text/html": [
       "<div>\n",
       "<style scoped>\n",
       "    .dataframe tbody tr th:only-of-type {\n",
       "        vertical-align: middle;\n",
       "    }\n",
       "\n",
       "    .dataframe tbody tr th {\n",
       "        vertical-align: top;\n",
       "    }\n",
       "\n",
       "    .dataframe thead th {\n",
       "        text-align: right;\n",
       "    }\n",
       "</style>\n",
       "<table border=\"1\" class=\"dataframe\">\n",
       "  <thead>\n",
       "    <tr style=\"text-align: right;\">\n",
       "      <th></th>\n",
       "      <th>id_documento</th>\n",
       "      <th>id_tienda</th>\n",
       "      <th>id_barrio</th>\n",
       "      <th>total_compra</th>\n",
       "      <th>fecha_compra</th>\n",
       "    </tr>\n",
       "  </thead>\n",
       "  <tbody>\n",
       "    <tr>\n",
       "      <th>0</th>\n",
       "      <td>6861792605025121524T-1</td>\n",
       "      <td>14812028LAT3.40211808LON-76.52568134</td>\n",
       "      <td>737998244</td>\n",
       "      <td>22218042.0</td>\n",
       "      <td>2022-06-15</td>\n",
       "    </tr>\n",
       "    <tr>\n",
       "      <th>1</th>\n",
       "      <td>1552970090928921643T-1</td>\n",
       "      <td>14388938LAT3.468765417LON-76.48493586</td>\n",
       "      <td>737998896</td>\n",
       "      <td>21583407.0</td>\n",
       "      <td>2022-10-02</td>\n",
       "    </tr>\n",
       "    <tr>\n",
       "      <th>2</th>\n",
       "      <td>-4075904842556875666T-1</td>\n",
       "      <td>12370698LAT3.40074292LON-76.52483946</td>\n",
       "      <td>737998244</td>\n",
       "      <td>6185349.0</td>\n",
       "      <td>2022-01-10</td>\n",
       "    </tr>\n",
       "    <tr>\n",
       "      <th>3</th>\n",
       "      <td>3539339627033221084T-1</td>\n",
       "      <td>10313583LAT3.369543673LON-76.52366403</td>\n",
       "      <td>738000400</td>\n",
       "      <td>10313583.0</td>\n",
       "      <td>2022-09-02</td>\n",
       "    </tr>\n",
       "    <tr>\n",
       "      <th>4</th>\n",
       "      <td>5595554501572542610T-1</td>\n",
       "      <td>14358071LAT3.419045741LON-76.49772993</td>\n",
       "      <td>737996734</td>\n",
       "      <td>28716142.0</td>\n",
       "      <td>2022-03-20</td>\n",
       "    </tr>\n",
       "    <tr>\n",
       "      <th>...</th>\n",
       "      <td>...</td>\n",
       "      <td>...</td>\n",
       "      <td>...</td>\n",
       "      <td>...</td>\n",
       "      <td>...</td>\n",
       "    </tr>\n",
       "    <tr>\n",
       "      <th>94605</th>\n",
       "      <td>-6859292209449934659T-2</td>\n",
       "      <td>1116LAT3.47740375LON-76.52670515</td>\n",
       "      <td>737998252</td>\n",
       "      <td>558.0</td>\n",
       "      <td>2022-04-30</td>\n",
       "    </tr>\n",
       "    <tr>\n",
       "      <th>94606</th>\n",
       "      <td>-1762474661445594290T-2</td>\n",
       "      <td>745LAT3.41432528LON-76.54798624</td>\n",
       "      <td>737998095</td>\n",
       "      <td>372.5</td>\n",
       "      <td>2022-01-07</td>\n",
       "    </tr>\n",
       "    <tr>\n",
       "      <th>94607</th>\n",
       "      <td>-1762474661445594290T-2</td>\n",
       "      <td>745LAT3.45120421LON-76.5329424</td>\n",
       "      <td>737998832</td>\n",
       "      <td>372.5</td>\n",
       "      <td>2022-11-09</td>\n",
       "    </tr>\n",
       "    <tr>\n",
       "      <th>94608</th>\n",
       "      <td>-2708241712915270749T-2</td>\n",
       "      <td>4090LAT3.42755068LON-76.49999127</td>\n",
       "      <td>737995769</td>\n",
       "      <td>2045.0</td>\n",
       "      <td>2022-06-15</td>\n",
       "    </tr>\n",
       "    <tr>\n",
       "      <th>94609</th>\n",
       "      <td>4476350616100556296T-2</td>\n",
       "      <td>15409667LAT3.450511126LON-76.53831413</td>\n",
       "      <td>737998685</td>\n",
       "      <td>15409667.0</td>\n",
       "      <td>2022-02-11</td>\n",
       "    </tr>\n",
       "  </tbody>\n",
       "</table>\n",
       "<p>94609 rows × 5 columns</p>\n",
       "</div>"
      ],
      "text/plain": [
       "                  id_documento                              id_tienda  \\\n",
       "0       6861792605025121524T-1   14812028LAT3.40211808LON-76.52568134   \n",
       "1       1552970090928921643T-1  14388938LAT3.468765417LON-76.48493586   \n",
       "2      -4075904842556875666T-1   12370698LAT3.40074292LON-76.52483946   \n",
       "3       3539339627033221084T-1  10313583LAT3.369543673LON-76.52366403   \n",
       "4       5595554501572542610T-1  14358071LAT3.419045741LON-76.49772993   \n",
       "...                        ...                                    ...   \n",
       "94605  -6859292209449934659T-2       1116LAT3.47740375LON-76.52670515   \n",
       "94606  -1762474661445594290T-2        745LAT3.41432528LON-76.54798624   \n",
       "94607  -1762474661445594290T-2         745LAT3.45120421LON-76.5329424   \n",
       "94608  -2708241712915270749T-2       4090LAT3.42755068LON-76.49999127   \n",
       "94609   4476350616100556296T-2  15409667LAT3.450511126LON-76.53831413   \n",
       "\n",
       "       id_barrio  total_compra fecha_compra  \n",
       "0      737998244    22218042.0   2022-06-15  \n",
       "1      737998896    21583407.0   2022-10-02  \n",
       "2      737998244     6185349.0   2022-01-10  \n",
       "3      738000400    10313583.0   2022-09-02  \n",
       "4      737996734    28716142.0   2022-03-20  \n",
       "...          ...           ...          ...  \n",
       "94605  737998252         558.0   2022-04-30  \n",
       "94606  737998095         372.5   2022-01-07  \n",
       "94607  737998832         372.5   2022-11-09  \n",
       "94608  737995769        2045.0   2022-06-15  \n",
       "94609  737998685    15409667.0   2022-02-11  \n",
       "\n",
       "[94609 rows x 5 columns]"
      ]
     },
     "execution_count": 49,
     "metadata": {},
     "output_type": "execute_result"
    }
   ],
   "source": [
    "data"
   ]
  },
  {
   "cell_type": "code",
   "execution_count": null,
   "id": "7800de6c-13f5-4d25-9b81-a07d08275f70",
   "metadata": {},
   "outputs": [],
   "source": []
  },
  {
   "cell_type": "code",
   "execution_count": 362,
   "id": "2fdf236a-783d-4ef5-a2c0-87066ca4d723",
   "metadata": {},
   "outputs": [],
   "source": [
    "#"
   ]
  },
  {
   "cell_type": "code",
   "execution_count": 365,
   "id": "deadd75c-c34f-4af9-90de-a6d7c498e085",
   "metadata": {},
   "outputs": [],
   "source": []
  },
  {
   "cell_type": "code",
   "execution_count": 367,
   "id": "0397d5a1-5bbb-40eb-9b3c-3d709255baa4",
   "metadata": {},
   "outputs": [
    {
     "name": "stdout",
     "output_type": "stream",
     "text": [
      "<class 'pandas.core.frame.DataFrame'>\n",
      "RangeIndex: 94610 entries, 0 to 94609\n",
      "Data columns (total 7 columns):\n",
      " #   Column        Non-Null Count  Dtype  \n",
      "---  ------        --------------  -----  \n",
      " 0   id_documento  94610 non-null  object \n",
      " 1   id_tienda     94610 non-null  object \n",
      " 2   id_barrio     94610 non-null  object \n",
      " 3   total_compra  94610 non-null  float64\n",
      " 4   fecha_compra  94610 non-null  object \n",
      " 5   year_compra   94610 non-null  int32  \n",
      " 6   month_compra  94610 non-null  object \n",
      "dtypes: float64(1), int32(1), object(5)\n",
      "memory usage: 4.7+ MB\n"
     ]
    }
   ],
   "source": [
    "data.info()"
   ]
  },
  {
   "cell_type": "code",
   "execution_count": 255,
   "id": "54ffdaa9-e965-44a5-92ae-a48430e4ae10",
   "metadata": {},
   "outputs": [],
   "source": [
    "fechas = data.loc[:,['fecha_compra', 'year_compra', 'month_compra']]"
   ]
  },
  {
   "cell_type": "code",
   "execution_count": 368,
   "id": "e27c8133-3ed9-4545-a1b3-2d62eac73d46",
   "metadata": {},
   "outputs": [],
   "source": [
    "fechas.drop_duplicates(inplace=True)"
   ]
  },
  {
   "cell_type": "code",
   "execution_count": 370,
   "id": "ca4cda28-a63f-4316-a679-63bb1714f21d",
   "metadata": {},
   "outputs": [
    {
     "data": {
      "text/plain": [
       "array([2022])"
      ]
     },
     "execution_count": 370,
     "metadata": {},
     "output_type": "execute_result"
    }
   ],
   "source": [
    "fechas.year_compra.unique()"
   ]
  },
  {
   "cell_type": "code",
   "execution_count": 371,
   "id": "4991ada1-27fa-4565-a7c1-01baee118a61",
   "metadata": {},
   "outputs": [
    {
     "data": {
      "text/html": [
       "<div>\n",
       "<style scoped>\n",
       "    .dataframe tbody tr th:only-of-type {\n",
       "        vertical-align: middle;\n",
       "    }\n",
       "\n",
       "    .dataframe tbody tr th {\n",
       "        vertical-align: top;\n",
       "    }\n",
       "\n",
       "    .dataframe thead th {\n",
       "        text-align: right;\n",
       "    }\n",
       "</style>\n",
       "<table border=\"1\" class=\"dataframe\">\n",
       "  <thead>\n",
       "    <tr style=\"text-align: right;\">\n",
       "      <th></th>\n",
       "      <th>id_documento</th>\n",
       "      <th>id_tienda</th>\n",
       "      <th>id_barrio</th>\n",
       "      <th>total_compra</th>\n",
       "      <th>fecha_compra</th>\n",
       "      <th>year_compra</th>\n",
       "      <th>month_compra</th>\n",
       "    </tr>\n",
       "  </thead>\n",
       "  <tbody>\n",
       "    <tr>\n",
       "      <th>0</th>\n",
       "      <td>6861792605025121524T-1</td>\n",
       "      <td>14812028LAT3.40211808LON-76.52568134</td>\n",
       "      <td>737998244</td>\n",
       "      <td>22218042.0</td>\n",
       "      <td>2022-06-15</td>\n",
       "      <td>2022</td>\n",
       "      <td>June</td>\n",
       "    </tr>\n",
       "    <tr>\n",
       "      <th>1</th>\n",
       "      <td>1552970090928921643T-1</td>\n",
       "      <td>14388938LAT3.468765417LON-76.48493586</td>\n",
       "      <td>737998896</td>\n",
       "      <td>21583407.0</td>\n",
       "      <td>2022-10-02</td>\n",
       "      <td>2022</td>\n",
       "      <td>October</td>\n",
       "    </tr>\n",
       "    <tr>\n",
       "      <th>2</th>\n",
       "      <td>-4075904842556875666T-1</td>\n",
       "      <td>12370698LAT3.40074292LON-76.52483946</td>\n",
       "      <td>737998244</td>\n",
       "      <td>6185349.0</td>\n",
       "      <td>2022-01-10</td>\n",
       "      <td>2022</td>\n",
       "      <td>January</td>\n",
       "    </tr>\n",
       "    <tr>\n",
       "      <th>3</th>\n",
       "      <td>3539339627033221084T-1</td>\n",
       "      <td>10313583LAT3.369543673LON-76.52366403</td>\n",
       "      <td>738000400</td>\n",
       "      <td>10313583.0</td>\n",
       "      <td>2022-09-02</td>\n",
       "      <td>2022</td>\n",
       "      <td>September</td>\n",
       "    </tr>\n",
       "    <tr>\n",
       "      <th>4</th>\n",
       "      <td>5595554501572542610T-1</td>\n",
       "      <td>14358071LAT3.419045741LON-76.49772993</td>\n",
       "      <td>737996734</td>\n",
       "      <td>28716142.0</td>\n",
       "      <td>2022-03-20</td>\n",
       "      <td>2022</td>\n",
       "      <td>March</td>\n",
       "    </tr>\n",
       "    <tr>\n",
       "      <th>...</th>\n",
       "      <td>...</td>\n",
       "      <td>...</td>\n",
       "      <td>...</td>\n",
       "      <td>...</td>\n",
       "      <td>...</td>\n",
       "      <td>...</td>\n",
       "      <td>...</td>\n",
       "    </tr>\n",
       "    <tr>\n",
       "      <th>94605</th>\n",
       "      <td>-6859292209449934659T-2</td>\n",
       "      <td>1116LAT3.47740375LON-76.52670515</td>\n",
       "      <td>737998252</td>\n",
       "      <td>558.0</td>\n",
       "      <td>2022-04-30</td>\n",
       "      <td>2022</td>\n",
       "      <td>April</td>\n",
       "    </tr>\n",
       "    <tr>\n",
       "      <th>94606</th>\n",
       "      <td>-1762474661445594290T-2</td>\n",
       "      <td>745LAT3.41432528LON-76.54798624</td>\n",
       "      <td>737998095</td>\n",
       "      <td>372.5</td>\n",
       "      <td>2022-01-07</td>\n",
       "      <td>2022</td>\n",
       "      <td>January</td>\n",
       "    </tr>\n",
       "    <tr>\n",
       "      <th>94607</th>\n",
       "      <td>-1762474661445594290T-2</td>\n",
       "      <td>745LAT3.45120421LON-76.5329424</td>\n",
       "      <td>737998832</td>\n",
       "      <td>372.5</td>\n",
       "      <td>2022-11-09</td>\n",
       "      <td>2022</td>\n",
       "      <td>November</td>\n",
       "    </tr>\n",
       "    <tr>\n",
       "      <th>94608</th>\n",
       "      <td>-2708241712915270749T-2</td>\n",
       "      <td>4090LAT3.42755068LON-76.49999127</td>\n",
       "      <td>737995769</td>\n",
       "      <td>2045.0</td>\n",
       "      <td>2022-06-15</td>\n",
       "      <td>2022</td>\n",
       "      <td>June</td>\n",
       "    </tr>\n",
       "    <tr>\n",
       "      <th>94609</th>\n",
       "      <td>4476350616100556296T-2</td>\n",
       "      <td>15409667LAT3.450511126LON-76.53831413</td>\n",
       "      <td>737998685</td>\n",
       "      <td>15409667.0</td>\n",
       "      <td>2022-02-11</td>\n",
       "      <td>2022</td>\n",
       "      <td>February</td>\n",
       "    </tr>\n",
       "  </tbody>\n",
       "</table>\n",
       "<p>94610 rows × 7 columns</p>\n",
       "</div>"
      ],
      "text/plain": [
       "                  id_documento                              id_tienda  \\\n",
       "0       6861792605025121524T-1   14812028LAT3.40211808LON-76.52568134   \n",
       "1       1552970090928921643T-1  14388938LAT3.468765417LON-76.48493586   \n",
       "2      -4075904842556875666T-1   12370698LAT3.40074292LON-76.52483946   \n",
       "3       3539339627033221084T-1  10313583LAT3.369543673LON-76.52366403   \n",
       "4       5595554501572542610T-1  14358071LAT3.419045741LON-76.49772993   \n",
       "...                        ...                                    ...   \n",
       "94605  -6859292209449934659T-2       1116LAT3.47740375LON-76.52670515   \n",
       "94606  -1762474661445594290T-2        745LAT3.41432528LON-76.54798624   \n",
       "94607  -1762474661445594290T-2         745LAT3.45120421LON-76.5329424   \n",
       "94608  -2708241712915270749T-2       4090LAT3.42755068LON-76.49999127   \n",
       "94609   4476350616100556296T-2  15409667LAT3.450511126LON-76.53831413   \n",
       "\n",
       "       id_barrio  total_compra fecha_compra  year_compra month_compra  \n",
       "0      737998244    22218042.0   2022-06-15         2022         June  \n",
       "1      737998896    21583407.0   2022-10-02         2022      October  \n",
       "2      737998244     6185349.0   2022-01-10         2022      January  \n",
       "3      738000400    10313583.0   2022-09-02         2022    September  \n",
       "4      737996734    28716142.0   2022-03-20         2022        March  \n",
       "...          ...           ...          ...          ...          ...  \n",
       "94605  737998252         558.0   2022-04-30         2022        April  \n",
       "94606  737998095         372.5   2022-01-07         2022      January  \n",
       "94607  737998832         372.5   2022-11-09         2022     November  \n",
       "94608  737995769        2045.0   2022-06-15         2022         June  \n",
       "94609  737998685    15409667.0   2022-02-11         2022     February  \n",
       "\n",
       "[94610 rows x 7 columns]"
      ]
     },
     "execution_count": 371,
     "metadata": {},
     "output_type": "execute_result"
    }
   ],
   "source": [
    "data"
   ]
  },
  {
   "cell_type": "code",
   "execution_count": 53,
   "id": "841c194f-0d67-41f1-8e4e-076265e388b8",
   "metadata": {},
   "outputs": [
    {
     "data": {
      "text/html": [
       "<div>\n",
       "<style scoped>\n",
       "    .dataframe tbody tr th:only-of-type {\n",
       "        vertical-align: middle;\n",
       "    }\n",
       "\n",
       "    .dataframe tbody tr th {\n",
       "        vertical-align: top;\n",
       "    }\n",
       "\n",
       "    .dataframe thead th {\n",
       "        text-align: right;\n",
       "    }\n",
       "</style>\n",
       "<table border=\"1\" class=\"dataframe\">\n",
       "  <thead>\n",
       "    <tr style=\"text-align: right;\">\n",
       "      <th></th>\n",
       "      <th>tipo_tienda</th>\n",
       "      <th>nombre_barrio</th>\n",
       "      <th>total_compra</th>\n",
       "    </tr>\n",
       "  </thead>\n",
       "  <tbody>\n",
       "    <tr>\n",
       "      <th>0</th>\n",
       "      <td>Hipermercado</td>\n",
       "      <td>Chipichape</td>\n",
       "      <td>1.862128e+06</td>\n",
       "    </tr>\n",
       "    <tr>\n",
       "      <th>1</th>\n",
       "      <td>Hipermercado</td>\n",
       "      <td>El Cedro</td>\n",
       "      <td>2.365852e+06</td>\n",
       "    </tr>\n",
       "    <tr>\n",
       "      <th>2</th>\n",
       "      <td>Hipermercado</td>\n",
       "      <td>El Sena</td>\n",
       "      <td>1.597321e+06</td>\n",
       "    </tr>\n",
       "    <tr>\n",
       "      <th>3</th>\n",
       "      <td>Hipermercado</td>\n",
       "      <td>Lili</td>\n",
       "      <td>1.603686e+06</td>\n",
       "    </tr>\n",
       "    <tr>\n",
       "      <th>4</th>\n",
       "      <td>Hipermercado</td>\n",
       "      <td>Los Alcázares</td>\n",
       "      <td>6.973100e+05</td>\n",
       "    </tr>\n",
       "    <tr>\n",
       "      <th>...</th>\n",
       "      <td>...</td>\n",
       "      <td>...</td>\n",
       "      <td>...</td>\n",
       "    </tr>\n",
       "    <tr>\n",
       "      <th>564</th>\n",
       "      <td>Tienda especializada</td>\n",
       "      <td>Villa del Sur</td>\n",
       "      <td>1.432414e+08</td>\n",
       "    </tr>\n",
       "    <tr>\n",
       "      <th>565</th>\n",
       "      <td>Tienda especializada</td>\n",
       "      <td>Villanueva</td>\n",
       "      <td>2.922779e+07</td>\n",
       "    </tr>\n",
       "    <tr>\n",
       "      <th>566</th>\n",
       "      <td>Tienda especializada</td>\n",
       "      <td>Ville Grande</td>\n",
       "      <td>1.031786e+09</td>\n",
       "    </tr>\n",
       "    <tr>\n",
       "      <th>567</th>\n",
       "      <td>Tienda especializada</td>\n",
       "      <td>Vipasa</td>\n",
       "      <td>4.200323e+09</td>\n",
       "    </tr>\n",
       "    <tr>\n",
       "      <th>568</th>\n",
       "      <td>Tienda especializada</td>\n",
       "      <td>Área Libre-Parque del Amor</td>\n",
       "      <td>6.851796e+09</td>\n",
       "    </tr>\n",
       "  </tbody>\n",
       "</table>\n",
       "<p>569 rows × 3 columns</p>\n",
       "</div>"
      ],
      "text/plain": [
       "              tipo_tienda                nombre_barrio  total_compra\n",
       "0            Hipermercado                   Chipichape  1.862128e+06\n",
       "1            Hipermercado                     El Cedro  2.365852e+06\n",
       "2            Hipermercado                      El Sena  1.597321e+06\n",
       "3            Hipermercado                         Lili  1.603686e+06\n",
       "4            Hipermercado                Los Alcázares  6.973100e+05\n",
       "..                    ...                          ...           ...\n",
       "564  Tienda especializada                Villa del Sur  1.432414e+08\n",
       "565  Tienda especializada                   Villanueva  2.922779e+07\n",
       "566  Tienda especializada                 Ville Grande  1.031786e+09\n",
       "567  Tienda especializada                       Vipasa  4.200323e+09\n",
       "568  Tienda especializada  Área Libre-Parque del Amor  6.851796e+09\n",
       "\n",
       "[569 rows x 3 columns]"
      ]
     },
     "execution_count": 53,
     "metadata": {},
     "output_type": "execute_result"
    }
   ],
   "source": [
    "cols = ['tipo_tienda', 'nombre_barrio']\n",
    "agg = {'total_compra': sum}\n",
    "max_compras = data.groupby(cols, as_index=False).agg(agg)\n",
    "max_compras.total_compra"
   ]
  },
  {
   "cell_type": "code",
   "execution_count": 57,
   "id": "ec20f03f-bec7-43b1-bb5a-32b713ad6d0c",
   "metadata": {},
   "outputs": [
    {
     "data": {
      "text/html": [
       "<div>\n",
       "<style scoped>\n",
       "    .dataframe tbody tr th:only-of-type {\n",
       "        vertical-align: middle;\n",
       "    }\n",
       "\n",
       "    .dataframe tbody tr th {\n",
       "        vertical-align: top;\n",
       "    }\n",
       "\n",
       "    .dataframe thead th {\n",
       "        text-align: right;\n",
       "    }\n",
       "</style>\n",
       "<table border=\"1\" class=\"dataframe\">\n",
       "  <thead>\n",
       "    <tr style=\"text-align: right;\">\n",
       "      <th></th>\n",
       "      <th>tipo_tienda</th>\n",
       "      <th>nombre_barrio</th>\n",
       "      <th>total_compra</th>\n",
       "    </tr>\n",
       "  </thead>\n",
       "  <tbody>\n",
       "    <tr>\n",
       "      <th>275</th>\n",
       "      <td>Tienda Regional</td>\n",
       "      <td>San Nicolás</td>\n",
       "      <td>8.283501e+11</td>\n",
       "    </tr>\n",
       "    <tr>\n",
       "      <th>290</th>\n",
       "      <td>Tienda Regional</td>\n",
       "      <td>Unicentro Cali</td>\n",
       "      <td>5.855341e+11</td>\n",
       "    </tr>\n",
       "    <tr>\n",
       "      <th>161</th>\n",
       "      <td>Tienda Regional</td>\n",
       "      <td>Calima</td>\n",
       "      <td>5.681686e+11</td>\n",
       "    </tr>\n",
       "    <tr>\n",
       "      <th>198</th>\n",
       "      <td>Tienda Regional</td>\n",
       "      <td>El Sena</td>\n",
       "      <td>5.163137e+11</td>\n",
       "    </tr>\n",
       "    <tr>\n",
       "      <th>298</th>\n",
       "      <td>Tienda Regional</td>\n",
       "      <td>Versalles</td>\n",
       "      <td>5.060217e+11</td>\n",
       "    </tr>\n",
       "    <tr>\n",
       "      <th>170</th>\n",
       "      <td>Tienda Regional</td>\n",
       "      <td>Chapinero</td>\n",
       "      <td>5.009680e+11</td>\n",
       "    </tr>\n",
       "    <tr>\n",
       "      <th>178</th>\n",
       "      <td>Tienda Regional</td>\n",
       "      <td>Colseguros Andes</td>\n",
       "      <td>4.682271e+11</td>\n",
       "    </tr>\n",
       "    <tr>\n",
       "      <th>292</th>\n",
       "      <td>Tienda Regional</td>\n",
       "      <td>Unidad Residencial Santiago de Cali</td>\n",
       "      <td>4.629650e+11</td>\n",
       "    </tr>\n",
       "    <tr>\n",
       "      <th>278</th>\n",
       "      <td>Tienda Regional</td>\n",
       "      <td>San Vicente</td>\n",
       "      <td>4.624782e+11</td>\n",
       "    </tr>\n",
       "    <tr>\n",
       "      <th>230</th>\n",
       "      <td>Tienda Regional</td>\n",
       "      <td>Lili</td>\n",
       "      <td>4.402504e+11</td>\n",
       "    </tr>\n",
       "    <tr>\n",
       "      <th>220</th>\n",
       "      <td>Tienda Regional</td>\n",
       "      <td>La Merced</td>\n",
       "      <td>3.393279e+11</td>\n",
       "    </tr>\n",
       "    <tr>\n",
       "      <th>302</th>\n",
       "      <td>Tienda Regional</td>\n",
       "      <td>Ville Grande</td>\n",
       "      <td>3.310606e+11</td>\n",
       "    </tr>\n",
       "    <tr>\n",
       "      <th>287</th>\n",
       "      <td>Tienda Regional</td>\n",
       "      <td>Sucre</td>\n",
       "      <td>3.168136e+11</td>\n",
       "    </tr>\n",
       "    <tr>\n",
       "      <th>277</th>\n",
       "      <td>Tienda Regional</td>\n",
       "      <td>San Pedro</td>\n",
       "      <td>2.807041e+11</td>\n",
       "    </tr>\n",
       "    <tr>\n",
       "      <th>184</th>\n",
       "      <td>Tienda Regional</td>\n",
       "      <td>El Cedro</td>\n",
       "      <td>2.796364e+11</td>\n",
       "    </tr>\n",
       "    <tr>\n",
       "      <th>296</th>\n",
       "      <td>Tienda Regional</td>\n",
       "      <td>Urbanización San Juaquín</td>\n",
       "      <td>2.766711e+11</td>\n",
       "    </tr>\n",
       "    <tr>\n",
       "      <th>248</th>\n",
       "      <td>Tienda Regional</td>\n",
       "      <td>Nueva Floresta del Ict</td>\n",
       "      <td>2.263471e+11</td>\n",
       "    </tr>\n",
       "    <tr>\n",
       "      <th>186</th>\n",
       "      <td>Tienda Regional</td>\n",
       "      <td>El Gran Limonar</td>\n",
       "      <td>2.177760e+11</td>\n",
       "    </tr>\n",
       "    <tr>\n",
       "      <th>294</th>\n",
       "      <td>Tienda Regional</td>\n",
       "      <td>Urbanización Militar</td>\n",
       "      <td>2.079555e+11</td>\n",
       "    </tr>\n",
       "    <tr>\n",
       "      <th>189</th>\n",
       "      <td>Tienda Regional</td>\n",
       "      <td>El Jardín</td>\n",
       "      <td>2.064022e+11</td>\n",
       "    </tr>\n",
       "    <tr>\n",
       "      <th>286</th>\n",
       "      <td>Tienda Regional</td>\n",
       "      <td>Siete de Agosto</td>\n",
       "      <td>2.031728e+11</td>\n",
       "    </tr>\n",
       "    <tr>\n",
       "      <th>222</th>\n",
       "      <td>Tienda Regional</td>\n",
       "      <td>La Rivera</td>\n",
       "      <td>2.025051e+11</td>\n",
       "    </tr>\n",
       "    <tr>\n",
       "      <th>216</th>\n",
       "      <td>Tienda Regional</td>\n",
       "      <td>La Flora</td>\n",
       "      <td>1.966905e+11</td>\n",
       "    </tr>\n",
       "    <tr>\n",
       "      <th>215</th>\n",
       "      <td>Tienda Regional</td>\n",
       "      <td>La Ciudadela Confandi</td>\n",
       "      <td>1.939357e+11</td>\n",
       "    </tr>\n",
       "    <tr>\n",
       "      <th>264</th>\n",
       "      <td>Tienda Regional</td>\n",
       "      <td>Puerta del Sol</td>\n",
       "      <td>1.901892e+11</td>\n",
       "    </tr>\n",
       "    <tr>\n",
       "      <th>238</th>\n",
       "      <td>Tienda Regional</td>\n",
       "      <td>Los Guayacanes</td>\n",
       "      <td>1.596588e+11</td>\n",
       "    </tr>\n",
       "    <tr>\n",
       "      <th>174</th>\n",
       "      <td>Tienda Regional</td>\n",
       "      <td>Ciudad Córdoba</td>\n",
       "      <td>1.596453e+11</td>\n",
       "    </tr>\n",
       "    <tr>\n",
       "      <th>247</th>\n",
       "      <td>Tienda Regional</td>\n",
       "      <td>Municipal</td>\n",
       "      <td>1.577796e+11</td>\n",
       "    </tr>\n",
       "    <tr>\n",
       "      <th>183</th>\n",
       "      <td>Tienda Regional</td>\n",
       "      <td>El Calvario</td>\n",
       "      <td>1.572550e+11</td>\n",
       "    </tr>\n",
       "  </tbody>\n",
       "</table>\n",
       "</div>"
      ],
      "text/plain": [
       "         tipo_tienda                        nombre_barrio  total_compra\n",
       "275  Tienda Regional                          San Nicolás  8.283501e+11\n",
       "290  Tienda Regional                       Unicentro Cali  5.855341e+11\n",
       "161  Tienda Regional                               Calima  5.681686e+11\n",
       "198  Tienda Regional                              El Sena  5.163137e+11\n",
       "298  Tienda Regional                            Versalles  5.060217e+11\n",
       "170  Tienda Regional                            Chapinero  5.009680e+11\n",
       "178  Tienda Regional                     Colseguros Andes  4.682271e+11\n",
       "292  Tienda Regional  Unidad Residencial Santiago de Cali  4.629650e+11\n",
       "278  Tienda Regional                          San Vicente  4.624782e+11\n",
       "230  Tienda Regional                                 Lili  4.402504e+11\n",
       "220  Tienda Regional                            La Merced  3.393279e+11\n",
       "302  Tienda Regional                         Ville Grande  3.310606e+11\n",
       "287  Tienda Regional                                Sucre  3.168136e+11\n",
       "277  Tienda Regional                            San Pedro  2.807041e+11\n",
       "184  Tienda Regional                             El Cedro  2.796364e+11\n",
       "296  Tienda Regional             Urbanización San Juaquín  2.766711e+11\n",
       "248  Tienda Regional               Nueva Floresta del Ict  2.263471e+11\n",
       "186  Tienda Regional                      El Gran Limonar  2.177760e+11\n",
       "294  Tienda Regional                 Urbanización Militar  2.079555e+11\n",
       "189  Tienda Regional                            El Jardín  2.064022e+11\n",
       "286  Tienda Regional                      Siete de Agosto  2.031728e+11\n",
       "222  Tienda Regional                            La Rivera  2.025051e+11\n",
       "216  Tienda Regional                             La Flora  1.966905e+11\n",
       "215  Tienda Regional                La Ciudadela Confandi  1.939357e+11\n",
       "264  Tienda Regional                       Puerta del Sol  1.901892e+11\n",
       "238  Tienda Regional                       Los Guayacanes  1.596588e+11\n",
       "174  Tienda Regional                       Ciudad Córdoba  1.596453e+11\n",
       "247  Tienda Regional                            Municipal  1.577796e+11\n",
       "183  Tienda Regional                          El Calvario  1.572550e+11"
      ]
     },
     "execution_count": 57,
     "metadata": {},
     "output_type": "execute_result"
    }
   ],
   "source": [
    "perc_95 = np.percentile(max_compras.total_compra, 95)\n",
    "cond =  max_compras.total_compra >= perc_95\n",
    "max_compras[cond].sort_values('total_compra', ascending=False)"
   ]
  },
  {
   "cell_type": "code",
   "execution_count": null,
   "id": "0771ed6f-0c9b-4090-8fca-764857af5109",
   "metadata": {},
   "outputs": [],
   "source": []
  },
  {
   "cell_type": "code",
   "execution_count": null,
   "id": "6d9cca0a-9e16-4fa4-b8a4-98e45bdbc6a7",
   "metadata": {},
   "outputs": [],
   "source": []
  },
  {
   "cell_type": "code",
   "execution_count": null,
   "id": "f3a5dbb9-b006-408f-a98c-e2750f78b487",
   "metadata": {},
   "outputs": [],
   "source": []
  },
  {
   "cell_type": "code",
   "execution_count": null,
   "id": "fdabf7f3-0bfe-4c9c-b158-c81e1dc86f4f",
   "metadata": {},
   "outputs": [],
   "source": []
  },
  {
   "cell_type": "code",
   "execution_count": null,
   "id": "8d17e9c4-d706-4118-a985-455e54d2ada3",
   "metadata": {},
   "outputs": [],
   "source": []
  },
  {
   "cell_type": "code",
   "execution_count": null,
   "id": "8e9823f5-1a82-4128-8398-d9b534581b43",
   "metadata": {},
   "outputs": [],
   "source": []
  },
  {
   "cell_type": "code",
   "execution_count": null,
   "id": "e919c5b9-1ae6-439a-a854-18bb6ffad6bf",
   "metadata": {},
   "outputs": [],
   "source": [
    "doc_rep = data.groupby('num_documento_cliente', as_index=False).agg({'tipo_documento_cliente': pd.Series.nunique})"
   ]
  },
  {
   "cell_type": "code",
   "execution_count": null,
   "id": "1c7eff33-d580-4aa2-b50b-7928f38e2e89",
   "metadata": {},
   "outputs": [],
   "source": [
    "doc_rep[doc_rep.tipo_documento_cliente>1]"
   ]
  },
  {
   "cell_type": "code",
   "execution_count": null,
   "id": "d7481ddd-69f7-479a-8018-c24aebe6c067",
   "metadata": {},
   "outputs": [],
   "source": [
    "cols_ini = data.columns"
   ]
  },
  {
   "cell_type": "code",
   "execution_count": 180,
   "id": "7b8acec9-7236-44a7-a327-200992adfeae",
   "metadata": {},
   "outputs": [],
   "source": [
    "data['aux'] = data['num_documento_cliente'] + 'T ' + data['tipo_documento_cliente']"
   ]
  },
  {
   "cell_type": "code",
   "execution_count": 181,
   "id": "94986de1-9628-4482-9b33-4d5c0e5d6a0e",
   "metadata": {},
   "outputs": [
    {
     "data": {
      "text/plain": [
       "94610"
      ]
     },
     "execution_count": 181,
     "metadata": {},
     "output_type": "execute_result"
    }
   ],
   "source": [
    "len(data)"
   ]
  },
  {
   "cell_type": "code",
   "execution_count": 182,
   "id": "664ba62b-9018-45ea-9b32-a2ff2cb559c3",
   "metadata": {},
   "outputs": [],
   "source": [
    "docs = set(data.aux)"
   ]
  },
  {
   "cell_type": "code",
   "execution_count": null,
   "id": "5f6ba44c-49d7-4ee4-b6bd-897f537fc827",
   "metadata": {},
   "outputs": [],
   "source": []
  },
  {
   "cell_type": "code",
   "execution_count": null,
   "id": "b10a5475-42e5-4bcb-ad8a-36e3f676c395",
   "metadata": {},
   "outputs": [],
   "source": [
    "data.drop_duplicates(cols_ini, inplace=True)"
   ]
  },
  {
   "cell_type": "code",
   "execution_count": 184,
   "id": "ee2e55a3-a3c7-443b-856b-fb7db63edcaf",
   "metadata": {},
   "outputs": [
    {
     "data": {
      "text/plain": [
       "num_documento_cliente     0\n",
       "tipo_documento_cliente    0\n",
       "codigo_tienda             0\n",
       "total_compra              0\n",
       "tipo_tienda               0\n",
       "latitud_tienda            0\n",
       "longitud_tienda           0\n",
       "id_barrio                 0\n",
       "nombre_barrio             0\n",
       "fecha_compra              0\n",
       "aux                       0\n",
       "dtype: int64"
      ]
     },
     "execution_count": 184,
     "metadata": {},
     "output_type": "execute_result"
    }
   ],
   "source": [
    "data.isnull().sum()"
   ]
  },
  {
   "cell_type": "code",
   "execution_count": 185,
   "id": "b73065c6-8c13-41d9-b544-3fa6807b8103",
   "metadata": {},
   "outputs": [
    {
     "data": {
      "text/html": [
       "<div>\n",
       "<style scoped>\n",
       "    .dataframe tbody tr th:only-of-type {\n",
       "        vertical-align: middle;\n",
       "    }\n",
       "\n",
       "    .dataframe tbody tr th {\n",
       "        vertical-align: top;\n",
       "    }\n",
       "\n",
       "    .dataframe thead th {\n",
       "        text-align: right;\n",
       "    }\n",
       "</style>\n",
       "<table border=\"1\" class=\"dataframe\">\n",
       "  <thead>\n",
       "    <tr style=\"text-align: right;\">\n",
       "      <th></th>\n",
       "      <th>tipo_tienda</th>\n",
       "      <th>cantidad_clientes</th>\n",
       "    </tr>\n",
       "  </thead>\n",
       "  <tbody>\n",
       "    <tr>\n",
       "      <th>0</th>\n",
       "      <td>Hipermercado</td>\n",
       "      <td>2210</td>\n",
       "    </tr>\n",
       "    <tr>\n",
       "      <th>1</th>\n",
       "      <td>Minimercado</td>\n",
       "      <td>17</td>\n",
       "    </tr>\n",
       "    <tr>\n",
       "      <th>2</th>\n",
       "      <td>Supermercado</td>\n",
       "      <td>6593</td>\n",
       "    </tr>\n",
       "    <tr>\n",
       "      <th>3</th>\n",
       "      <td>Tienda Outlet</td>\n",
       "      <td>5202</td>\n",
       "    </tr>\n",
       "    <tr>\n",
       "      <th>4</th>\n",
       "      <td>Tienda Regional</td>\n",
       "      <td>3483</td>\n",
       "    </tr>\n",
       "    <tr>\n",
       "      <th>5</th>\n",
       "      <td>Tienda especializada</td>\n",
       "      <td>5648</td>\n",
       "    </tr>\n",
       "  </tbody>\n",
       "</table>\n",
       "</div>"
      ],
      "text/plain": [
       "            tipo_tienda  cantidad_clientes\n",
       "0          Hipermercado               2210\n",
       "1           Minimercado                 17\n",
       "2          Supermercado               6593\n",
       "3         Tienda Outlet               5202\n",
       "4       Tienda Regional               3483\n",
       "5  Tienda especializada               5648"
      ]
     },
     "execution_count": 185,
     "metadata": {},
     "output_type": "execute_result"
    }
   ],
   "source": [
    "clientes_dif = data.groupby('tipo_tienda')['aux'].nunique()\n",
    "clientes_dif = pd.DataFrame(clientes_dif)\n",
    "clientes_dif.columns = ['cantidad_clientes']\n",
    "clientes_dif.reset_index(inplace=True)\n",
    "clientes_dif"
   ]
  },
  {
   "cell_type": "code",
   "execution_count": 186,
   "id": "ef0c393a-27e4-40f6-be73-cf6c145b1ed6",
   "metadata": {},
   "outputs": [
    {
     "data": {
      "text/html": [
       "<div>\n",
       "<style scoped>\n",
       "    .dataframe tbody tr th:only-of-type {\n",
       "        vertical-align: middle;\n",
       "    }\n",
       "\n",
       "    .dataframe tbody tr th {\n",
       "        vertical-align: top;\n",
       "    }\n",
       "\n",
       "    .dataframe thead th {\n",
       "        text-align: right;\n",
       "    }\n",
       "</style>\n",
       "<table border=\"1\" class=\"dataframe\">\n",
       "  <thead>\n",
       "    <tr style=\"text-align: right;\">\n",
       "      <th></th>\n",
       "      <th>tipo_tienda</th>\n",
       "      <th>cantidad_clientes</th>\n",
       "    </tr>\n",
       "  </thead>\n",
       "  <tbody>\n",
       "    <tr>\n",
       "      <th>0</th>\n",
       "      <td>Hipermercado</td>\n",
       "      <td>2210</td>\n",
       "    </tr>\n",
       "    <tr>\n",
       "      <th>2</th>\n",
       "      <td>Supermercado</td>\n",
       "      <td>6593</td>\n",
       "    </tr>\n",
       "    <tr>\n",
       "      <th>3</th>\n",
       "      <td>Tienda Outlet</td>\n",
       "      <td>5202</td>\n",
       "    </tr>\n",
       "    <tr>\n",
       "      <th>4</th>\n",
       "      <td>Tienda Regional</td>\n",
       "      <td>3483</td>\n",
       "    </tr>\n",
       "    <tr>\n",
       "      <th>5</th>\n",
       "      <td>Tienda especializada</td>\n",
       "      <td>5648</td>\n",
       "    </tr>\n",
       "  </tbody>\n",
       "</table>\n",
       "</div>"
      ],
      "text/plain": [
       "            tipo_tienda  cantidad_clientes\n",
       "0          Hipermercado               2210\n",
       "2          Supermercado               6593\n",
       "3         Tienda Outlet               5202\n",
       "4       Tienda Regional               3483\n",
       "5  Tienda especializada               5648"
      ]
     },
     "execution_count": 186,
     "metadata": {},
     "output_type": "execute_result"
    }
   ],
   "source": [
    "almenos_100_clientes = clientes_dif[clientes_dif.cantidad_clientes>=100]\n",
    "almenos_100_clientes"
   ]
  },
  {
   "cell_type": "code",
   "execution_count": 190,
   "id": "a54bedd4-8c23-4c76-90df-8ef07a1a4543",
   "metadata": {},
   "outputs": [],
   "source": [
    "cols = ['nombre_barrio', 'tipo_tienda']\n",
    "agg = {'aux': pd.Series.nunique}\n",
    "barrio_tienda = data.groupby(cols).agg(agg)\n",
    "barrio_tienda.columns = ['cantidad_clientes']\n",
    "barrio_tienda.reset_index(inplace=True)"
   ]
  },
  {
   "cell_type": "code",
   "execution_count": 191,
   "id": "d5326af9-8436-4517-9a46-c82c8274a4f1",
   "metadata": {},
   "outputs": [
    {
     "name": "stderr",
     "output_type": "stream",
     "text": [
      "C:\\Users\\Asus\\AppData\\Local\\Temp\\ipykernel_12308\\1331289973.py:3: SettingWithCopyWarning: \n",
      "A value is trying to be set on a copy of a slice from a DataFrame\n",
      "\n",
      "See the caveats in the documentation: https://pandas.pydata.org/pandas-docs/stable/user_guide/indexing.html#returning-a-view-versus-a-copy\n",
      "  barrios_tienda_regional.sort_values('cantidad_clientes', inplace=True, ascending=False)\n"
     ]
    }
   ],
   "source": [
    "cond = barrio_tienda.tipo_tienda == 'Tienda Regional'\n",
    "barrios_tienda_regional = barrio_tienda[cond]\n",
    "barrios_tienda_regional.sort_values('cantidad_clientes', inplace=True, ascending=False)"
   ]
  },
  {
   "cell_type": "code",
   "execution_count": 192,
   "id": "bc7c50fe-1b13-43b2-9038-c9f97b71d2b6",
   "metadata": {},
   "outputs": [
    {
     "data": {
      "text/html": [
       "<div>\n",
       "<style scoped>\n",
       "    .dataframe tbody tr th:only-of-type {\n",
       "        vertical-align: middle;\n",
       "    }\n",
       "\n",
       "    .dataframe tbody tr th {\n",
       "        vertical-align: top;\n",
       "    }\n",
       "\n",
       "    .dataframe thead th {\n",
       "        text-align: right;\n",
       "    }\n",
       "</style>\n",
       "<table border=\"1\" class=\"dataframe\">\n",
       "  <thead>\n",
       "    <tr style=\"text-align: right;\">\n",
       "      <th></th>\n",
       "      <th>nombre_barrio</th>\n",
       "      <th>tipo_tienda</th>\n",
       "      <th>cantidad_clientes</th>\n",
       "    </tr>\n",
       "  </thead>\n",
       "  <tbody>\n",
       "    <tr>\n",
       "      <th>504</th>\n",
       "      <td>Unicentro Cali</td>\n",
       "      <td>Tienda Regional</td>\n",
       "      <td>364</td>\n",
       "    </tr>\n",
       "    <tr>\n",
       "      <th>546</th>\n",
       "      <td>Versalles</td>\n",
       "      <td>Tienda Regional</td>\n",
       "      <td>332</td>\n",
       "    </tr>\n",
       "    <tr>\n",
       "      <th>183</th>\n",
       "      <td>El Sena</td>\n",
       "      <td>Tienda Regional</td>\n",
       "      <td>293</td>\n",
       "    </tr>\n",
       "    <tr>\n",
       "      <th>512</th>\n",
       "      <td>Unidad Residencial Santiago de Cali</td>\n",
       "      <td>Tienda Regional</td>\n",
       "      <td>285</td>\n",
       "    </tr>\n",
       "    <tr>\n",
       "      <th>61</th>\n",
       "      <td>Calima</td>\n",
       "      <td>Tienda Regional</td>\n",
       "      <td>260</td>\n",
       "    </tr>\n",
       "  </tbody>\n",
       "</table>\n",
       "</div>"
      ],
      "text/plain": [
       "                           nombre_barrio      tipo_tienda  cantidad_clientes\n",
       "504                       Unicentro Cali  Tienda Regional                364\n",
       "546                            Versalles  Tienda Regional                332\n",
       "183                              El Sena  Tienda Regional                293\n",
       "512  Unidad Residencial Santiago de Cali  Tienda Regional                285\n",
       "61                                Calima  Tienda Regional                260"
      ]
     },
     "execution_count": 192,
     "metadata": {},
     "output_type": "execute_result"
    }
   ],
   "source": [
    "barrios_tienda_regional[:5]"
   ]
  },
  {
   "cell_type": "code",
   "execution_count": null,
   "id": "b026c8b1-78a7-492c-b007-aeeb534a75bd",
   "metadata": {},
   "outputs": [],
   "source": [
    "data.columns"
   ]
  },
  {
   "cell_type": "code",
   "execution_count": null,
   "id": "22649cb5-2bde-4a1c-b318-0b65601b022b",
   "metadata": {},
   "outputs": [],
   "source": [
    "data.isnull().sum()"
   ]
  },
  {
   "cell_type": "code",
   "execution_count": null,
   "id": "eec2475d-255c-48ce-84bf-8122e27556b1",
   "metadata": {},
   "outputs": [],
   "source": [
    "documentos = data.loc[:, ['id_doc', 'num_documento_cliente', 'tipo_documento_cliente']]"
   ]
  },
  {
   "cell_type": "code",
   "execution_count": null,
   "id": "9e719a15-0fa4-4962-82e1-5be88279ba01",
   "metadata": {},
   "outputs": [],
   "source": [
    "documentos.size"
   ]
  },
  {
   "cell_type": "code",
   "execution_count": null,
   "id": "04aed63b-e0db-4a80-88d5-d3a1e3834890",
   "metadata": {},
   "outputs": [],
   "source": [
    "documentos.drop_duplicates(inplace=True)\n",
    "documentos.size"
   ]
  },
  {
   "cell_type": "code",
   "execution_count": null,
   "id": "c6182dbe-1011-4518-9b25-9be42130fce1",
   "metadata": {},
   "outputs": [],
   "source": [
    "documentos[documentos.duplicated('num_documento_cliente', keep=False)].sort_values('num_documento_cliente')"
   ]
  },
  {
   "cell_type": "code",
   "execution_count": null,
   "id": "369e4867-bb16-40bf-9c74-17bd0c718223",
   "metadata": {},
   "outputs": [],
   "source": [
    "documentos.to_csv('data/dimension_documento.csv', sep=',', index=False)"
   ]
  },
  {
   "cell_type": "code",
   "execution_count": null,
   "id": "bc69790d-643d-444a-8b18-d34951736d0e",
   "metadata": {},
   "outputs": [],
   "source": [
    "tiendas = data.loc[:, ['codigo_tienda', 'tipo_tienda', 'latitud_tienda', 'longitud_tienda']]"
   ]
  },
  {
   "cell_type": "code",
   "execution_count": null,
   "id": "36106eed-8c39-416b-b11a-8861dff3693e",
   "metadata": {},
   "outputs": [],
   "source": [
    "tiendas.size"
   ]
  },
  {
   "cell_type": "code",
   "execution_count": null,
   "id": "b3478d00-c5c3-46cd-a698-ad5ea1ac7835",
   "metadata": {},
   "outputs": [],
   "source": [
    "tiendas.drop_duplicates(inplace=True)\n",
    "tiendas.size"
   ]
  },
  {
   "cell_type": "code",
   "execution_count": null,
   "id": "3be13dc9-5f35-48f9-9019-8bf4fb1b2d32",
   "metadata": {},
   "outputs": [],
   "source": [
    "tiendas[tiendas.duplicated('codigo_tienda', keep=False)].sort_values('codigo_tienda')"
   ]
  },
  {
   "cell_type": "code",
   "execution_count": null,
   "id": "8f4fe20e-651d-4950-ae22-f55dcfc1fe85",
   "metadata": {},
   "outputs": [],
   "source": [
    "tiendas.to_csv('data/dimension_tienda.csv', sep=',', index=False)"
   ]
  },
  {
   "cell_type": "code",
   "execution_count": null,
   "id": "fcdfb4e1-027f-41ef-b8af-e4813daf4cc3",
   "metadata": {},
   "outputs": [],
   "source": [
    "barrios = data.loc[:, ['id_barrio', 'nombre_barrio']]"
   ]
  },
  {
   "cell_type": "code",
   "execution_count": null,
   "id": "a0b42be3-e350-43f5-81ba-398ddafd3b64",
   "metadata": {},
   "outputs": [],
   "source": [
    "barrios.drop_duplicates(inplace=True)\n",
    "barrios.size"
   ]
  },
  {
   "cell_type": "code",
   "execution_count": null,
   "id": "3e16b1e4-79da-4357-8713-a3b0e8f6e619",
   "metadata": {},
   "outputs": [],
   "source": [
    "barrios[barrios.duplicated('id_barrio', keep=False)].sort_values('id_barrio')"
   ]
  },
  {
   "cell_type": "code",
   "execution_count": null,
   "id": "3f68b41d-52b6-43d5-9a6d-c9e7f7d57115",
   "metadata": {},
   "outputs": [],
   "source": [
    "barrios.to_csv('data/dimension_barrio.csv', sep=',', index=False)"
   ]
  },
  {
   "cell_type": "code",
   "execution_count": null,
   "id": "9b14745f-8023-45fc-93ce-32f9e3e92cdb",
   "metadata": {},
   "outputs": [],
   "source": [
    "compras = data.loc[:, ['id_doc', 'codigo_tienda', 'id_barrio', 'total_compra',  'fecha_compra']]"
   ]
  },
  {
   "cell_type": "code",
   "execution_count": null,
   "id": "cc26c915-40aa-4000-aa9e-8edb785e5c0b",
   "metadata": {},
   "outputs": [],
   "source": [
    "compras"
   ]
  },
  {
   "cell_type": "code",
   "execution_count": null,
   "id": "c67c7cd3-df20-4832-8f08-55d67433097e",
   "metadata": {},
   "outputs": [],
   "source": [
    "compras.drop_duplicates(inplace=True)\n",
    "compras.size"
   ]
  },
  {
   "cell_type": "code",
   "execution_count": null,
   "id": "f934f4c3-c6b1-4e56-ba4b-1f17a12e19f3",
   "metadata": {},
   "outputs": [],
   "source": [
    "compras.to_csv('data/hechos_compra.csv', sep=',', index=False)"
   ]
  },
  {
   "cell_type": "code",
   "execution_count": null,
   "id": "e90efd66-7636-4aee-922b-3df77c56dbc5",
   "metadata": {},
   "outputs": [],
   "source": [
    "df = pd.merge(compras, documentos, on='id_doc', how='inner')\n",
    "df.drop_duplicates(inplace=True)\n",
    "df = pd.merge(df, tiendas, on='codigo_tienda', how='inner')\n",
    "df.drop_duplicates(inplace=True)\n",
    "df = pd.merge(df, barrios, on='id_barrio', how='inner')"
   ]
  },
  {
   "cell_type": "code",
   "execution_count": null,
   "id": "7a7ce316-6689-4557-9f80-07f9c60cfc0e",
   "metadata": {},
   "outputs": [],
   "source": [
    "df.drop_duplicates(inplace=True)"
   ]
  },
  {
   "cell_type": "code",
   "execution_count": null,
   "id": "8876eb23-6bed-4372-9125-0d619829359c",
   "metadata": {},
   "outputs": [],
   "source": [
    "df.size"
   ]
  },
  {
   "cell_type": "code",
   "execution_count": null,
   "id": "1c83d26e-6bea-4e98-8306-3d51c976cc19",
   "metadata": {},
   "outputs": [],
   "source": []
  },
  {
   "cell_type": "code",
   "execution_count": null,
   "id": "49fbe813-e60c-413c-94f7-12002d8c4b92",
   "metadata": {},
   "outputs": [],
   "source": [
    "clientes_dif = df.groupby('tipo_tienda')['id_doc'].nunique()\n",
    "clientes_dif = pd.DataFrame(clientes_dif)\n",
    "clientes_dif.columns = ['cantidad_clientes']\n",
    "clientes_dif.reset_index(inplace=True)\n",
    "clientes_dif"
   ]
  }
 ],
 "metadata": {
  "kernelspec": {
   "display_name": "Python 3 (ipykernel)",
   "language": "python",
   "name": "python3"
  },
  "language_info": {
   "codemirror_mode": {
    "name": "ipython",
    "version": 3
   },
   "file_extension": ".py",
   "mimetype": "text/x-python",
   "name": "python",
   "nbconvert_exporter": "python",
   "pygments_lexer": "ipython3",
   "version": "3.11.4"
  }
 },
 "nbformat": 4,
 "nbformat_minor": 5
}
