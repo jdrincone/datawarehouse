{
 "cells": [
  {
   "cell_type": "code",
   "execution_count": 1,
   "id": "539dd5fe-ff73-4113-abc7-dc088af8d220",
   "metadata": {},
   "outputs": [],
   "source": [
    "import pandas as pd\n",
    "import numpy as np"
   ]
  },
  {
   "cell_type": "code",
   "execution_count": 2,
   "id": "3056d280-dfb5-4342-ad50-0affc29437d8",
   "metadata": {},
   "outputs": [],
   "source": [
    "converters = {'num_documento_cliente': str,\n",
    "             'tipo_documento_cliente': str,\n",
    "             'codigo_tienda': str, \n",
    "             'total_compra': float,\n",
    "             'tipo_tienda': str,\n",
    "             'latitud_tienda': float,\n",
    "             'longitud_tienda': float,\n",
    "             'id_barrio': str,\n",
    "             'nombre_barrio': str}"
   ]
  },
  {
   "cell_type": "code",
   "execution_count": 3,
   "id": "48f6dcec-c84b-46b3-8433-79ae4752d8b4",
   "metadata": {},
   "outputs": [
    {
     "name": "stdout",
     "output_type": "stream",
     "text": [
      "C:\\Users\\Asus\\Documents\\proyectos\\datawarehouse\n"
     ]
    }
   ],
   "source": [
    "%cd ../../"
   ]
  },
  {
   "cell_type": "code",
   "execution_count": 9,
   "id": "89f2cefd-65ab-4c03-8ffb-6a3446ff918d",
   "metadata": {},
   "outputs": [],
   "source": [
    "data = pd.read_csv('data/dataset.csv', converters=converters)"
   ]
  },
  {
   "cell_type": "code",
   "execution_count": 10,
   "id": "f209c004-5f51-4717-8cf4-7aae917580dd",
   "metadata": {},
   "outputs": [
    {
     "data": {
      "text/plain": [
       "Index(['num_documento_cliente', 'tipo_documento_cliente', 'codigo_tienda',\n",
       "       'total_compra', 'tipo_tienda', 'latitud_tienda', 'longitud_tienda',\n",
       "       'id_barrio', 'nombre_barrio', 'fecha_compra'],\n",
       "      dtype='object')"
      ]
     },
     "execution_count": 10,
     "metadata": {},
     "output_type": "execute_result"
    }
   ],
   "source": [
    "data.columns"
   ]
  },
  {
   "cell_type": "code",
   "execution_count": 11,
   "id": "611dbc57-1540-4ebe-bf30-14df303d3679",
   "metadata": {},
   "outputs": [
    {
     "data": {
      "text/plain": [
       "94610"
      ]
     },
     "execution_count": 11,
     "metadata": {},
     "output_type": "execute_result"
    }
   ],
   "source": [
    "len(data)"
   ]
  },
  {
   "cell_type": "code",
   "execution_count": 12,
   "id": "46e93269-5197-412e-b870-40220a414fa3",
   "metadata": {},
   "outputs": [
    {
     "data": {
      "text/html": [
       "<div>\n",
       "<style scoped>\n",
       "    .dataframe tbody tr th:only-of-type {\n",
       "        vertical-align: middle;\n",
       "    }\n",
       "\n",
       "    .dataframe tbody tr th {\n",
       "        vertical-align: top;\n",
       "    }\n",
       "\n",
       "    .dataframe thead th {\n",
       "        text-align: right;\n",
       "    }\n",
       "</style>\n",
       "<table border=\"1\" class=\"dataframe\">\n",
       "  <thead>\n",
       "    <tr style=\"text-align: right;\">\n",
       "      <th></th>\n",
       "      <th>num_documento_cliente</th>\n",
       "      <th>tipo_documento_cliente</th>\n",
       "      <th>codigo_tienda</th>\n",
       "      <th>total_compra</th>\n",
       "      <th>tipo_tienda</th>\n",
       "      <th>latitud_tienda</th>\n",
       "      <th>longitud_tienda</th>\n",
       "      <th>id_barrio</th>\n",
       "      <th>nombre_barrio</th>\n",
       "      <th>fecha_compra</th>\n",
       "    </tr>\n",
       "  </thead>\n",
       "  <tbody>\n",
       "    <tr>\n",
       "      <th>0</th>\n",
       "      <td>6861792605025121524</td>\n",
       "      <td>1</td>\n",
       "      <td>14812028</td>\n",
       "      <td>22218042.0</td>\n",
       "      <td>Tienda especializada</td>\n",
       "      <td>3.402118</td>\n",
       "      <td>-76.525681</td>\n",
       "      <td>737998244</td>\n",
       "      <td>Canaverales Los Samanes</td>\n",
       "      <td>2022-06-15 15:49:11</td>\n",
       "    </tr>\n",
       "    <tr>\n",
       "      <th>1</th>\n",
       "      <td>1552970090928921643</td>\n",
       "      <td>1</td>\n",
       "      <td>14388938</td>\n",
       "      <td>21583407.0</td>\n",
       "      <td>Tienda especializada</td>\n",
       "      <td>3.468765</td>\n",
       "      <td>-76.484936</td>\n",
       "      <td>737998896</td>\n",
       "      <td>Jorge Eliecer Gaitan</td>\n",
       "      <td>2022-10-02 22:14:54</td>\n",
       "    </tr>\n",
       "    <tr>\n",
       "      <th>2</th>\n",
       "      <td>-4075904842556875666</td>\n",
       "      <td>1</td>\n",
       "      <td>12370698</td>\n",
       "      <td>6185349.0</td>\n",
       "      <td>Tienda especializada</td>\n",
       "      <td>3.400743</td>\n",
       "      <td>-76.524839</td>\n",
       "      <td>737998244</td>\n",
       "      <td>Canaverales Los Samanes</td>\n",
       "      <td>2022-01-10 0:27:57</td>\n",
       "    </tr>\n",
       "    <tr>\n",
       "      <th>3</th>\n",
       "      <td>3539339627033221084</td>\n",
       "      <td>1</td>\n",
       "      <td>10313583</td>\n",
       "      <td>10313583.0</td>\n",
       "      <td>Tienda especializada</td>\n",
       "      <td>3.369544</td>\n",
       "      <td>-76.523664</td>\n",
       "      <td>738000400</td>\n",
       "      <td>Lili</td>\n",
       "      <td>2022-09-02 16:30:24</td>\n",
       "    </tr>\n",
       "    <tr>\n",
       "      <th>4</th>\n",
       "      <td>5595554501572542610</td>\n",
       "      <td>1</td>\n",
       "      <td>14358071</td>\n",
       "      <td>28716142.0</td>\n",
       "      <td>Tienda especializada</td>\n",
       "      <td>3.419046</td>\n",
       "      <td>-76.497730</td>\n",
       "      <td>737996734</td>\n",
       "      <td>El Poblado</td>\n",
       "      <td>2022-03-20 2:56:49</td>\n",
       "    </tr>\n",
       "  </tbody>\n",
       "</table>\n",
       "</div>"
      ],
      "text/plain": [
       "  num_documento_cliente tipo_documento_cliente codigo_tienda  total_compra  \\\n",
       "0   6861792605025121524                      1      14812028    22218042.0   \n",
       "1   1552970090928921643                      1      14388938    21583407.0   \n",
       "2  -4075904842556875666                      1      12370698     6185349.0   \n",
       "3   3539339627033221084                      1      10313583    10313583.0   \n",
       "4   5595554501572542610                      1      14358071    28716142.0   \n",
       "\n",
       "            tipo_tienda  latitud_tienda  longitud_tienda  id_barrio  \\\n",
       "0  Tienda especializada        3.402118       -76.525681  737998244   \n",
       "1  Tienda especializada        3.468765       -76.484936  737998896   \n",
       "2  Tienda especializada        3.400743       -76.524839  737998244   \n",
       "3  Tienda especializada        3.369544       -76.523664  738000400   \n",
       "4  Tienda especializada        3.419046       -76.497730  737996734   \n",
       "\n",
       "             nombre_barrio         fecha_compra  \n",
       "0  Canaverales Los Samanes  2022-06-15 15:49:11  \n",
       "1     Jorge Eliecer Gaitan  2022-10-02 22:14:54  \n",
       "2  Canaverales Los Samanes   2022-01-10 0:27:57  \n",
       "3                     Lili  2022-09-02 16:30:24  \n",
       "4               El Poblado   2022-03-20 2:56:49  "
      ]
     },
     "execution_count": 12,
     "metadata": {},
     "output_type": "execute_result"
    }
   ],
   "source": [
    "data.head()"
   ]
  },
  {
   "cell_type": "code",
   "execution_count": 14,
   "id": "6e64939f-708f-4ea5-b2ec-5ad71c6b9a84",
   "metadata": {},
   "outputs": [],
   "source": [
    "data['fecha_compra'] = pd.to_datetime(data['fecha_compra'], format='%Y-%m-%d %H:%M:%S')\n",
    "data['year_compra']= data['fecha_compra'].dt.year\n",
    "data['month_compra']= data['fecha_compra'].dt.month_name('es_ES.utf8')\n",
    "data['day_compra']= data['fecha_compra'].dt.day_name('es_ES.utf-8')\n",
    "data['fecha_compra'] = data['fecha_compra'].dt.date"
   ]
  },
  {
   "cell_type": "code",
   "execution_count": null,
   "id": "5436101c-f80d-48ed-86ee-9c3274f8a8d3",
   "metadata": {},
   "outputs": [],
   "source": [
    "#data.to_csv('data/dataset.csv', sep=',', index=False, encoding='utf-8')"
   ]
  },
  {
   "cell_type": "code",
   "execution_count": 15,
   "id": "2f7eeb47-913c-485d-aba6-87a160bacbc6",
   "metadata": {},
   "outputs": [
    {
     "name": "stdout",
     "output_type": "stream",
     "text": [
      "<class 'pandas.core.frame.DataFrame'>\n",
      "RangeIndex: 94610 entries, 0 to 94609\n",
      "Data columns (total 13 columns):\n",
      " #   Column                  Non-Null Count  Dtype  \n",
      "---  ------                  --------------  -----  \n",
      " 0   num_documento_cliente   94610 non-null  object \n",
      " 1   tipo_documento_cliente  94610 non-null  object \n",
      " 2   codigo_tienda           94610 non-null  object \n",
      " 3   total_compra            94610 non-null  float64\n",
      " 4   tipo_tienda             94610 non-null  object \n",
      " 5   latitud_tienda          94610 non-null  float64\n",
      " 6   longitud_tienda         94610 non-null  float64\n",
      " 7   id_barrio               94610 non-null  object \n",
      " 8   nombre_barrio           94610 non-null  object \n",
      " 9   fecha_compra            94610 non-null  object \n",
      " 10  year_compra             94610 non-null  int32  \n",
      " 11  month_compra            94610 non-null  object \n",
      " 12  day_compra              94610 non-null  object \n",
      "dtypes: float64(3), int32(1), object(9)\n",
      "memory usage: 9.0+ MB\n"
     ]
    }
   ],
   "source": [
    "data.info()"
   ]
  },
  {
   "cell_type": "code",
   "execution_count": 22,
   "id": "6e49456c-efe3-4513-8bc6-1ecb4067c083",
   "metadata": {},
   "outputs": [
    {
     "name": "stdout",
     "output_type": "stream",
     "text": [
      " Nombre columna: num_documento_cliente, cantidad categorias 10000\n",
      " Nombre columna: tipo_documento_cliente, cantidad categorias 5\n",
      " Nombre columna: codigo_tienda, cantidad categorias 6014\n",
      " Nombre columna: total_compra, cantidad categorias 16873\n",
      " Nombre columna: tipo_tienda, cantidad categorias 6\n",
      " Nombre columna: latitud_tienda, cantidad categorias 4714\n",
      " Nombre columna: longitud_tienda, cantidad categorias 4639\n",
      " Nombre columna: id_barrio, cantidad categorias 277\n",
      " Nombre columna: nombre_barrio, cantidad categorias 277\n",
      " Nombre columna: fecha_compra, cantidad categorias 365\n",
      " Nombre columna: year_compra, cantidad categorias 1\n",
      " Nombre columna: month_compra, cantidad categorias 12\n",
      " Nombre columna: day_compra, cantidad categorias 7\n"
     ]
    }
   ],
   "source": [
    "for col in data.columns:\n",
    "    print(f' Nombre columna: {col}, cantidad categorias {data[col].nunique()}')"
   ]
  },
  {
   "cell_type": "code",
   "execution_count": 23,
   "id": "57191ec0-0c82-47c4-aedc-e34eefe90955",
   "metadata": {},
   "outputs": [],
   "source": [
    "## En este caso para aquellas columnas que el sus categorias son inferiores a 265 categorias\n",
    "## en la construcción de datawarehouse podemos codificar el tipo de dato con bytedict"
   ]
  },
  {
   "cell_type": "code",
   "execution_count": 24,
   "id": "00aac983-962d-40b1-83bd-20d09b4420fd",
   "metadata": {},
   "outputs": [],
   "source": [
    "documentos = data.loc[:, ['num_documento_cliente', 'tipo_documento_cliente']]\n",
    "documentos.drop_duplicates(inplace=True)"
   ]
  },
  {
   "cell_type": "code",
   "execution_count": 25,
   "id": "5748c073-0393-4177-8790-10c27440e326",
   "metadata": {},
   "outputs": [
    {
     "data": {
      "text/html": [
       "<div>\n",
       "<style scoped>\n",
       "    .dataframe tbody tr th:only-of-type {\n",
       "        vertical-align: middle;\n",
       "    }\n",
       "\n",
       "    .dataframe tbody tr th {\n",
       "        vertical-align: top;\n",
       "    }\n",
       "\n",
       "    .dataframe thead th {\n",
       "        text-align: right;\n",
       "    }\n",
       "</style>\n",
       "<table border=\"1\" class=\"dataframe\">\n",
       "  <thead>\n",
       "    <tr style=\"text-align: right;\">\n",
       "      <th></th>\n",
       "      <th>num_documento_cliente</th>\n",
       "      <th>tipo_documento_cliente</th>\n",
       "    </tr>\n",
       "  </thead>\n",
       "  <tbody>\n",
       "    <tr>\n",
       "      <th>92780</th>\n",
       "      <td>-1027836485982139155</td>\n",
       "      <td>2</td>\n",
       "    </tr>\n",
       "    <tr>\n",
       "      <th>10005</th>\n",
       "      <td>-1027836485982139155</td>\n",
       "      <td>1</td>\n",
       "    </tr>\n",
       "    <tr>\n",
       "      <th>14756</th>\n",
       "      <td>-1038754016974251967</td>\n",
       "      <td>1</td>\n",
       "    </tr>\n",
       "    <tr>\n",
       "      <th>92654</th>\n",
       "      <td>-1038754016974251967</td>\n",
       "      <td>2</td>\n",
       "    </tr>\n",
       "    <tr>\n",
       "      <th>1861</th>\n",
       "      <td>-1059790981306370284</td>\n",
       "      <td>1</td>\n",
       "    </tr>\n",
       "    <tr>\n",
       "      <th>...</th>\n",
       "      <td>...</td>\n",
       "      <td>...</td>\n",
       "    </tr>\n",
       "    <tr>\n",
       "      <th>94247</th>\n",
       "      <td>966908569164685428</td>\n",
       "      <td>2</td>\n",
       "    </tr>\n",
       "    <tr>\n",
       "      <th>92639</th>\n",
       "      <td>981867279217205960</td>\n",
       "      <td>2</td>\n",
       "    </tr>\n",
       "    <tr>\n",
       "      <th>547</th>\n",
       "      <td>981867279217205960</td>\n",
       "      <td>1</td>\n",
       "    </tr>\n",
       "    <tr>\n",
       "      <th>92847</th>\n",
       "      <td>988313494016465029</td>\n",
       "      <td>2</td>\n",
       "    </tr>\n",
       "    <tr>\n",
       "      <th>3052</th>\n",
       "      <td>988313494016465029</td>\n",
       "      <td>1</td>\n",
       "    </tr>\n",
       "  </tbody>\n",
       "</table>\n",
       "<p>3082 rows × 2 columns</p>\n",
       "</div>"
      ],
      "text/plain": [
       "      num_documento_cliente tipo_documento_cliente\n",
       "92780  -1027836485982139155                      2\n",
       "10005  -1027836485982139155                      1\n",
       "14756  -1038754016974251967                      1\n",
       "92654  -1038754016974251967                      2\n",
       "1861   -1059790981306370284                      1\n",
       "...                     ...                    ...\n",
       "94247    966908569164685428                      2\n",
       "92639    981867279217205960                      2\n",
       "547      981867279217205960                      1\n",
       "92847    988313494016465029                      2\n",
       "3052     988313494016465029                      1\n",
       "\n",
       "[3082 rows x 2 columns]"
      ]
     },
     "execution_count": 25,
     "metadata": {},
     "output_type": "execute_result"
    }
   ],
   "source": [
    "documentos[documentos.duplicated('num_documento_cliente', keep=False)].sort_values('num_documento_cliente')"
   ]
  },
  {
   "cell_type": "code",
   "execution_count": null,
   "id": "39b5713e-8e0f-4358-b7d9-80fa5ebf1b31",
   "metadata": {},
   "outputs": [],
   "source": [
    "## Existe numeros de documentos con dos tipo de documentos diferentes por tanto asumiremos que un cliente unico\n",
    "# esta definido por el documento y tipo de documento, por tanto se debe crear una primary key con \n",
    "## esta combinación"
   ]
  },
  {
   "cell_type": "code",
   "execution_count": 26,
   "id": "4b43ca9f-759b-4a85-96aa-bf91f1eafdc5",
   "metadata": {},
   "outputs": [
    {
     "data": {
      "text/html": [
       "<div>\n",
       "<style scoped>\n",
       "    .dataframe tbody tr th:only-of-type {\n",
       "        vertical-align: middle;\n",
       "    }\n",
       "\n",
       "    .dataframe tbody tr th {\n",
       "        vertical-align: top;\n",
       "    }\n",
       "\n",
       "    .dataframe thead th {\n",
       "        text-align: right;\n",
       "    }\n",
       "</style>\n",
       "<table border=\"1\" class=\"dataframe\">\n",
       "  <thead>\n",
       "    <tr style=\"text-align: right;\">\n",
       "      <th></th>\n",
       "      <th>codigo_tienda</th>\n",
       "      <th>tipo_tienda</th>\n",
       "      <th>latitud_tienda</th>\n",
       "      <th>longitud_tienda</th>\n",
       "    </tr>\n",
       "  </thead>\n",
       "  <tbody>\n",
       "    <tr>\n",
       "      <th>1662</th>\n",
       "      <td>745</td>\n",
       "      <td>Tienda Outlet</td>\n",
       "      <td>3.414325</td>\n",
       "      <td>-76.547986</td>\n",
       "    </tr>\n",
       "    <tr>\n",
       "      <th>1663</th>\n",
       "      <td>745</td>\n",
       "      <td>Supermercado</td>\n",
       "      <td>3.451204</td>\n",
       "      <td>-76.532942</td>\n",
       "    </tr>\n",
       "    <tr>\n",
       "      <th>1779</th>\n",
       "      <td>747</td>\n",
       "      <td>Tienda Outlet</td>\n",
       "      <td>3.485807</td>\n",
       "      <td>-76.516292</td>\n",
       "    </tr>\n",
       "    <tr>\n",
       "      <th>1780</th>\n",
       "      <td>747</td>\n",
       "      <td>Supermercado</td>\n",
       "      <td>3.451204</td>\n",
       "      <td>-76.532942</td>\n",
       "    </tr>\n",
       "  </tbody>\n",
       "</table>\n",
       "</div>"
      ],
      "text/plain": [
       "     codigo_tienda    tipo_tienda  latitud_tienda  longitud_tienda\n",
       "1662           745  Tienda Outlet        3.414325       -76.547986\n",
       "1663           745   Supermercado        3.451204       -76.532942\n",
       "1779           747  Tienda Outlet        3.485807       -76.516292\n",
       "1780           747   Supermercado        3.451204       -76.532942"
      ]
     },
     "execution_count": 26,
     "metadata": {},
     "output_type": "execute_result"
    }
   ],
   "source": [
    "tiendas = data.loc[:, ['codigo_tienda', 'tipo_tienda', 'latitud_tienda', 'longitud_tienda']]\n",
    "tiendas.drop_duplicates(inplace=True)\n",
    "tiendas[tiendas.duplicated('codigo_tienda', keep=False)].sort_values('codigo_tienda')"
   ]
  },
  {
   "cell_type": "code",
   "execution_count": null,
   "id": "4351c49b-afde-4f3b-84a9-f1d634a091fd",
   "metadata": {},
   "outputs": [],
   "source": [
    "### Vemos que las tiendas tienen que ser diferenciadas por dos o más parámetros\n",
    "## como el tipo_tienda no es un buen identificador,\n",
    "## se tomara como identificador unico el codido tienda y sus coordenadas\n",
    "## Igual que en el caso anterior, se debe construir una primary key compuesta para \n",
    "## el caso de la dimensión de tiendas"
   ]
  },
  {
   "cell_type": "code",
   "execution_count": 29,
   "id": "40876646-70aa-48fc-b099-9c816cb42361",
   "metadata": {},
   "outputs": [
    {
     "data": {
      "text/html": [
       "<div>\n",
       "<style scoped>\n",
       "    .dataframe tbody tr th:only-of-type {\n",
       "        vertical-align: middle;\n",
       "    }\n",
       "\n",
       "    .dataframe tbody tr th {\n",
       "        vertical-align: top;\n",
       "    }\n",
       "\n",
       "    .dataframe thead th {\n",
       "        text-align: right;\n",
       "    }\n",
       "</style>\n",
       "<table border=\"1\" class=\"dataframe\">\n",
       "  <thead>\n",
       "    <tr style=\"text-align: right;\">\n",
       "      <th></th>\n",
       "      <th>id_barrio</th>\n",
       "      <th>nombre_barrio</th>\n",
       "    </tr>\n",
       "  </thead>\n",
       "  <tbody>\n",
       "  </tbody>\n",
       "</table>\n",
       "</div>"
      ],
      "text/plain": [
       "Empty DataFrame\n",
       "Columns: [id_barrio, nombre_barrio]\n",
       "Index: []"
      ]
     },
     "execution_count": 29,
     "metadata": {},
     "output_type": "execute_result"
    }
   ],
   "source": [
    "barrios = data.loc[:, ['id_barrio', 'nombre_barrio']]\n",
    "barrios.drop_duplicates(inplace=True)\n",
    "barrios[barrios.duplicated('id_barrio', keep=False)].sort_values('id_barrio')"
   ]
  },
  {
   "cell_type": "code",
   "execution_count": null,
   "id": "9135385f-8a9d-4915-b24f-8d60d0bed49d",
   "metadata": {},
   "outputs": [],
   "source": [
    "## en este caso no tenemos ningun problema con la primary key, por tanto en la tabla de dimensión de barrios no\n",
    "## es necesario realizar ninguna transformación"
   ]
  }
 ],
 "metadata": {
  "kernelspec": {
   "display_name": "Python 3 (ipykernel)",
   "language": "python",
   "name": "python3"
  },
  "language_info": {
   "codemirror_mode": {
    "name": "ipython",
    "version": 3
   },
   "file_extension": ".py",
   "mimetype": "text/x-python",
   "name": "python",
   "nbconvert_exporter": "python",
   "pygments_lexer": "ipython3",
   "version": "3.11.4"
  }
 },
 "nbformat": 4,
 "nbformat_minor": 5
}
